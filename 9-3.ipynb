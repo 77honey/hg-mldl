{
  "nbformat": 4,
  "nbformat_minor": 0,
  "metadata": {
    "kernelspec": {
      "display_name": "TensorFlow 2.3 on Python 3.6 (CUDA 10.1)",
      "language": "python",
      "name": "python3"
    },
    "language_info": {
      "codemirror_mode": {
        "name": "ipython",
        "version": 3
      },
      "file_extension": ".py",
      "mimetype": "text/x-python",
      "name": "python",
      "nbconvert_exporter": "python",
      "pygments_lexer": "ipython3",
      "version": "3.6.9"
    },
    "colab": {
      "name": "9-3.ipynb",
      "provenance": []
    },
    "accelerator": "GPU"
  },
  "cells": [
    {
      "cell_type": "markdown",
      "metadata": {
        "id": "AlaMdWF26k2H"
      },
      "source": [
        "# LSTM과 GRU 셀"
      ]
    },
    {
      "cell_type": "markdown",
      "metadata": {
        "id": "o_Csb7v96k2M"
      },
      "source": [
        "<table align=\"left\">\n",
        "  <td>\n",
        "    <a target=\"_blank\" href=\"https://colab.research.google.com/github/rickiepark/hg-mldl/blob/master/9-3.ipynb\"><img src=\"https://www.tensorflow.org/images/colab_logo_32px.png\" />구글 코랩에서 실행하기</a>\n",
        "  </td>\n",
        "</table>"
      ]
    },
    {
      "cell_type": "markdown",
      "metadata": {
        "id": "KWi9yl0q6k2N"
      },
      "source": [
        "## LSTM 신경망 훈련하기"
      ]
    },
    {
      "cell_type": "code",
      "metadata": {
        "execution": {
          "iopub.execute_input": "2020-10-12T09:05:30.590337Z",
          "iopub.status.busy": "2020-10-12T09:05:30.589154Z",
          "iopub.status.idle": "2020-10-12T09:05:40.880700Z",
          "shell.execute_reply": "2020-10-12T09:05:40.879133Z"
        },
        "id": "XL7x0NCx6k2N",
        "outputId": "f7b3c1bb-2c6f-47d2-de53-759617fb8d1f",
        "colab": {
          "base_uri": "https://localhost:8080/"
        }
      },
      "source": [
        "from tensorflow.keras.datasets import imdb\n",
        "from sklearn.model_selection import train_test_split\n",
        "\n",
        "(train_input, train_target), (test_input, test_target) = imdb.load_data(\n",
        "    num_words=500)\n",
        "\n",
        "train_input, val_input, train_target, val_target = train_test_split(\n",
        "    train_input, train_target, test_size=0.2, random_state=42)"
      ],
      "execution_count": 1,
      "outputs": [
        {
          "output_type": "stream",
          "text": [
            "Downloading data from https://storage.googleapis.com/tensorflow/tf-keras-datasets/imdb.npz\n",
            "17465344/17464789 [==============================] - 0s 0us/step\n"
          ],
          "name": "stdout"
        },
        {
          "output_type": "stream",
          "text": [
            "<string>:6: VisibleDeprecationWarning: Creating an ndarray from ragged nested sequences (which is a list-or-tuple of lists-or-tuples-or ndarrays with different lengths or shapes) is deprecated. If you meant to do this, you must specify 'dtype=object' when creating the ndarray\n",
            "/usr/local/lib/python3.6/dist-packages/tensorflow/python/keras/datasets/imdb.py:159: VisibleDeprecationWarning: Creating an ndarray from ragged nested sequences (which is a list-or-tuple of lists-or-tuples-or ndarrays with different lengths or shapes) is deprecated. If you meant to do this, you must specify 'dtype=object' when creating the ndarray\n",
            "  x_train, y_train = np.array(xs[:idx]), np.array(labels[:idx])\n",
            "/usr/local/lib/python3.6/dist-packages/tensorflow/python/keras/datasets/imdb.py:160: VisibleDeprecationWarning: Creating an ndarray from ragged nested sequences (which is a list-or-tuple of lists-or-tuples-or ndarrays with different lengths or shapes) is deprecated. If you meant to do this, you must specify 'dtype=object' when creating the ndarray\n",
            "  x_test, y_test = np.array(xs[idx:]), np.array(labels[idx:])\n"
          ],
          "name": "stderr"
        }
      ]
    },
    {
      "cell_type": "code",
      "metadata": {
        "execution": {
          "iopub.execute_input": "2020-10-12T09:05:40.904623Z",
          "iopub.status.busy": "2020-10-12T09:05:40.902896Z",
          "iopub.status.idle": "2020-10-12T09:05:41.543511Z",
          "shell.execute_reply": "2020-10-12T09:05:41.542251Z"
        },
        "id": "5bjJ14QJ6k2O"
      },
      "source": [
        "from tensorflow.keras.preprocessing.sequence import pad_sequences\n",
        "\n",
        "train_seq = pad_sequences(train_input, maxlen=100)\n",
        "val_seq = pad_sequences(val_input, maxlen=100)"
      ],
      "execution_count": 2,
      "outputs": []
    },
    {
      "cell_type": "code",
      "metadata": {
        "execution": {
          "iopub.execute_input": "2020-10-12T09:05:41.551517Z",
          "iopub.status.busy": "2020-10-12T09:05:41.550145Z",
          "iopub.status.idle": "2020-10-12T09:05:43.982644Z",
          "shell.execute_reply": "2020-10-12T09:05:43.983878Z"
        },
        "id": "uMlTD4zv6k2O",
        "outputId": "c23a3bef-ebe1-4e6c-aa8a-e1dcd3ad475e",
        "colab": {
          "base_uri": "https://localhost:8080/"
        }
      },
      "source": [
        "from tensorflow import keras\n",
        "\n",
        "model = keras.Sequential()\n",
        "\n",
        "model.add(keras.layers.Embedding(500, 16, input_length=100))\n",
        "model.add(keras.layers.LSTM(8))\n",
        "model.add(keras.layers.Dense(1, activation='sigmoid'))\n",
        "\n",
        "model.summary()"
      ],
      "execution_count": 3,
      "outputs": [
        {
          "output_type": "stream",
          "text": [
            "Model: \"sequential\"\n",
            "_________________________________________________________________\n",
            "Layer (type)                 Output Shape              Param #   \n",
            "=================================================================\n",
            "embedding (Embedding)        (None, 100, 16)           8000      \n",
            "_________________________________________________________________\n",
            "lstm (LSTM)                  (None, 8)                 800       \n",
            "_________________________________________________________________\n",
            "dense (Dense)                (None, 1)                 9         \n",
            "=================================================================\n",
            "Total params: 8,809\n",
            "Trainable params: 8,809\n",
            "Non-trainable params: 0\n",
            "_________________________________________________________________\n"
          ],
          "name": "stdout"
        }
      ]
    },
    {
      "cell_type": "code",
      "metadata": {
        "execution": {
          "iopub.execute_input": "2020-10-12T09:05:44.007411Z",
          "iopub.status.busy": "2020-10-12T09:05:44.005663Z",
          "iopub.status.idle": "2020-10-12T09:09:36.703760Z",
          "shell.execute_reply": "2020-10-12T09:09:36.702162Z"
        },
        "id": "nCmqOkjI6k2P",
        "outputId": "c9dd6d8d-4ed7-4918-9f09-9e2e0c6a8ec0",
        "colab": {
          "base_uri": "https://localhost:8080/"
        }
      },
      "source": [
        "rmsprop = keras.optimizers.RMSprop(learning_rate=1e-4)\n",
        "model.compile(optimizer=rmsprop, loss='binary_crossentropy', \n",
        "              metrics=['accuracy'])\n",
        "\n",
        "checkpoint_cb = keras.callbacks.ModelCheckpoint('best-lstm-model.h5')\n",
        "early_stopping_cb = keras.callbacks.EarlyStopping(patience=3,\n",
        "                                                  restore_best_weights=True)\n",
        "\n",
        "history = model.fit(train_seq, train_target, epochs=100, batch_size=64,\n",
        "                    validation_data=(val_seq, val_target),\n",
        "                    callbacks=[checkpoint_cb, early_stopping_cb])"
      ],
      "execution_count": 4,
      "outputs": [
        {
          "output_type": "stream",
          "text": [
            "Epoch 1/100\n",
            "313/313 [==============================] - 11s 11ms/step - loss: 0.6929 - accuracy: 0.5186 - val_loss: 0.6914 - val_accuracy: 0.5900\n",
            "Epoch 2/100\n",
            "313/313 [==============================] - 3s 9ms/step - loss: 0.6903 - accuracy: 0.6139 - val_loss: 0.6871 - val_accuracy: 0.6398\n",
            "Epoch 3/100\n",
            "313/313 [==============================] - 3s 9ms/step - loss: 0.6838 - accuracy: 0.6520 - val_loss: 0.6681 - val_accuracy: 0.5412\n",
            "Epoch 4/100\n",
            "313/313 [==============================] - 3s 9ms/step - loss: 0.6452 - accuracy: 0.5851 - val_loss: 0.6103 - val_accuracy: 0.7122\n",
            "Epoch 5/100\n",
            "313/313 [==============================] - 3s 9ms/step - loss: 0.5977 - accuracy: 0.7344 - val_loss: 0.5866 - val_accuracy: 0.7534\n",
            "Epoch 6/100\n",
            "313/313 [==============================] - 3s 8ms/step - loss: 0.5735 - accuracy: 0.7566 - val_loss: 0.5709 - val_accuracy: 0.7574\n",
            "Epoch 7/100\n",
            "313/313 [==============================] - 3s 9ms/step - loss: 0.5524 - accuracy: 0.7747 - val_loss: 0.5566 - val_accuracy: 0.7618\n",
            "Epoch 8/100\n",
            "313/313 [==============================] - 3s 9ms/step - loss: 0.5438 - accuracy: 0.7720 - val_loss: 0.5446 - val_accuracy: 0.7638\n",
            "Epoch 9/100\n",
            "313/313 [==============================] - 3s 9ms/step - loss: 0.5279 - accuracy: 0.7822 - val_loss: 0.5328 - val_accuracy: 0.7700\n",
            "Epoch 10/100\n",
            "313/313 [==============================] - 3s 8ms/step - loss: 0.5193 - accuracy: 0.7816 - val_loss: 0.5222 - val_accuracy: 0.7704\n",
            "Epoch 11/100\n",
            "313/313 [==============================] - 3s 9ms/step - loss: 0.5129 - accuracy: 0.7778 - val_loss: 0.5108 - val_accuracy: 0.7786\n",
            "Epoch 12/100\n",
            "313/313 [==============================] - 3s 8ms/step - loss: 0.4969 - accuracy: 0.7882 - val_loss: 0.4980 - val_accuracy: 0.7798\n",
            "Epoch 13/100\n",
            "313/313 [==============================] - 3s 9ms/step - loss: 0.4801 - accuracy: 0.7937 - val_loss: 0.4919 - val_accuracy: 0.7796\n",
            "Epoch 14/100\n",
            "313/313 [==============================] - 3s 8ms/step - loss: 0.4679 - accuracy: 0.7974 - val_loss: 0.4803 - val_accuracy: 0.7854\n",
            "Epoch 15/100\n",
            "313/313 [==============================] - 3s 9ms/step - loss: 0.4670 - accuracy: 0.7914 - val_loss: 0.4750 - val_accuracy: 0.7858\n",
            "Epoch 16/100\n",
            "313/313 [==============================] - 3s 9ms/step - loss: 0.4579 - accuracy: 0.7957 - val_loss: 0.4707 - val_accuracy: 0.7878\n",
            "Epoch 17/100\n",
            "313/313 [==============================] - 3s 9ms/step - loss: 0.4480 - accuracy: 0.8034 - val_loss: 0.4681 - val_accuracy: 0.7842\n",
            "Epoch 18/100\n",
            "313/313 [==============================] - 3s 8ms/step - loss: 0.4453 - accuracy: 0.8005 - val_loss: 0.4646 - val_accuracy: 0.7846\n",
            "Epoch 19/100\n",
            "313/313 [==============================] - 3s 8ms/step - loss: 0.4491 - accuracy: 0.7992 - val_loss: 0.4628 - val_accuracy: 0.7902\n",
            "Epoch 20/100\n",
            "313/313 [==============================] - 3s 9ms/step - loss: 0.4410 - accuracy: 0.8022 - val_loss: 0.4597 - val_accuracy: 0.7892\n",
            "Epoch 21/100\n",
            "313/313 [==============================] - 3s 9ms/step - loss: 0.4359 - accuracy: 0.8086 - val_loss: 0.4588 - val_accuracy: 0.7862\n",
            "Epoch 22/100\n",
            "313/313 [==============================] - 3s 9ms/step - loss: 0.4314 - accuracy: 0.8100 - val_loss: 0.4566 - val_accuracy: 0.7876\n",
            "Epoch 23/100\n",
            "313/313 [==============================] - 3s 8ms/step - loss: 0.4378 - accuracy: 0.8036 - val_loss: 0.4582 - val_accuracy: 0.7822\n",
            "Epoch 24/100\n",
            "313/313 [==============================] - 3s 9ms/step - loss: 0.4331 - accuracy: 0.8067 - val_loss: 0.4519 - val_accuracy: 0.7938\n",
            "Epoch 25/100\n",
            "313/313 [==============================] - 3s 8ms/step - loss: 0.4244 - accuracy: 0.8146 - val_loss: 0.4505 - val_accuracy: 0.7958\n",
            "Epoch 26/100\n",
            "313/313 [==============================] - 3s 8ms/step - loss: 0.4232 - accuracy: 0.8141 - val_loss: 0.4514 - val_accuracy: 0.7882\n",
            "Epoch 27/100\n",
            "313/313 [==============================] - 3s 8ms/step - loss: 0.4233 - accuracy: 0.8129 - val_loss: 0.4482 - val_accuracy: 0.7940\n",
            "Epoch 28/100\n",
            "313/313 [==============================] - 3s 9ms/step - loss: 0.4218 - accuracy: 0.8138 - val_loss: 0.4473 - val_accuracy: 0.7962\n",
            "Epoch 29/100\n",
            "313/313 [==============================] - 3s 8ms/step - loss: 0.4277 - accuracy: 0.8103 - val_loss: 0.4465 - val_accuracy: 0.7956\n",
            "Epoch 30/100\n",
            "313/313 [==============================] - 3s 9ms/step - loss: 0.4238 - accuracy: 0.8123 - val_loss: 0.4491 - val_accuracy: 0.7950\n",
            "Epoch 31/100\n",
            "313/313 [==============================] - 3s 9ms/step - loss: 0.4096 - accuracy: 0.8211 - val_loss: 0.4430 - val_accuracy: 0.7956\n",
            "Epoch 32/100\n",
            "313/313 [==============================] - 3s 8ms/step - loss: 0.4212 - accuracy: 0.8130 - val_loss: 0.4423 - val_accuracy: 0.7978\n",
            "Epoch 33/100\n",
            "313/313 [==============================] - 3s 9ms/step - loss: 0.4174 - accuracy: 0.8175 - val_loss: 0.4415 - val_accuracy: 0.7968\n",
            "Epoch 34/100\n",
            "313/313 [==============================] - 3s 8ms/step - loss: 0.4156 - accuracy: 0.8188 - val_loss: 0.4422 - val_accuracy: 0.7944\n",
            "Epoch 35/100\n",
            "313/313 [==============================] - 3s 9ms/step - loss: 0.4134 - accuracy: 0.8199 - val_loss: 0.4408 - val_accuracy: 0.7968\n",
            "Epoch 36/100\n",
            "313/313 [==============================] - 3s 9ms/step - loss: 0.4113 - accuracy: 0.8208 - val_loss: 0.4459 - val_accuracy: 0.7982\n",
            "Epoch 37/100\n",
            "313/313 [==============================] - 3s 8ms/step - loss: 0.4090 - accuracy: 0.8188 - val_loss: 0.4389 - val_accuracy: 0.7962\n",
            "Epoch 38/100\n",
            "313/313 [==============================] - 3s 9ms/step - loss: 0.4147 - accuracy: 0.8191 - val_loss: 0.4382 - val_accuracy: 0.7986\n",
            "Epoch 39/100\n",
            "313/313 [==============================] - 3s 9ms/step - loss: 0.4031 - accuracy: 0.8259 - val_loss: 0.4378 - val_accuracy: 0.8002\n",
            "Epoch 40/100\n",
            "313/313 [==============================] - 3s 9ms/step - loss: 0.4076 - accuracy: 0.8206 - val_loss: 0.4411 - val_accuracy: 0.7924\n",
            "Epoch 41/100\n",
            "313/313 [==============================] - 3s 9ms/step - loss: 0.4036 - accuracy: 0.8200 - val_loss: 0.4369 - val_accuracy: 0.8024\n",
            "Epoch 42/100\n",
            "313/313 [==============================] - 3s 9ms/step - loss: 0.4119 - accuracy: 0.8191 - val_loss: 0.4360 - val_accuracy: 0.8000\n",
            "Epoch 43/100\n",
            "313/313 [==============================] - 3s 9ms/step - loss: 0.4078 - accuracy: 0.8192 - val_loss: 0.4344 - val_accuracy: 0.8010\n",
            "Epoch 44/100\n",
            "313/313 [==============================] - 3s 9ms/step - loss: 0.4048 - accuracy: 0.8201 - val_loss: 0.4333 - val_accuracy: 0.8006\n",
            "Epoch 45/100\n",
            "313/313 [==============================] - 3s 8ms/step - loss: 0.4071 - accuracy: 0.8192 - val_loss: 0.4340 - val_accuracy: 0.8034\n",
            "Epoch 46/100\n",
            "313/313 [==============================] - 3s 9ms/step - loss: 0.4069 - accuracy: 0.8212 - val_loss: 0.4333 - val_accuracy: 0.8014\n",
            "Epoch 47/100\n",
            "313/313 [==============================] - 3s 9ms/step - loss: 0.4001 - accuracy: 0.8233 - val_loss: 0.4315 - val_accuracy: 0.8038\n",
            "Epoch 48/100\n",
            "313/313 [==============================] - 3s 9ms/step - loss: 0.3991 - accuracy: 0.8255 - val_loss: 0.4309 - val_accuracy: 0.8022\n",
            "Epoch 49/100\n",
            "313/313 [==============================] - 3s 9ms/step - loss: 0.3976 - accuracy: 0.8283 - val_loss: 0.4302 - val_accuracy: 0.8014\n",
            "Epoch 50/100\n",
            "313/313 [==============================] - 3s 9ms/step - loss: 0.4050 - accuracy: 0.8190 - val_loss: 0.4300 - val_accuracy: 0.8030\n",
            "Epoch 51/100\n",
            "313/313 [==============================] - 3s 9ms/step - loss: 0.4049 - accuracy: 0.8175 - val_loss: 0.4312 - val_accuracy: 0.7968\n",
            "Epoch 52/100\n",
            "313/313 [==============================] - 3s 9ms/step - loss: 0.3998 - accuracy: 0.8234 - val_loss: 0.4318 - val_accuracy: 0.8060\n",
            "Epoch 53/100\n",
            "313/313 [==============================] - 3s 9ms/step - loss: 0.4007 - accuracy: 0.8229 - val_loss: 0.4324 - val_accuracy: 0.7948\n"
          ],
          "name": "stdout"
        }
      ]
    },
    {
      "cell_type": "code",
      "metadata": {
        "execution": {
          "iopub.execute_input": "2020-10-12T09:09:36.725150Z",
          "iopub.status.busy": "2020-10-12T09:09:36.723949Z",
          "iopub.status.idle": "2020-10-12T09:09:37.618677Z",
          "shell.execute_reply": "2020-10-12T09:09:37.620018Z"
        },
        "id": "Xl1bliNr6k2Q",
        "outputId": "cc585cf4-85f5-4cb6-ef9d-d717d461fb94",
        "colab": {
          "base_uri": "https://localhost:8080/",
          "height": 300
        }
      },
      "source": [
        "import matplotlib.pyplot as plt\n",
        "\n",
        "plt.plot(history.history['loss'])\n",
        "plt.plot(history.history['val_loss'])\n",
        "plt.xlabel('epoch')\n",
        "plt.ylabel('loss')\n",
        "plt.legend(['train', 'val'])\n",
        "plt.show()"
      ],
      "execution_count": 5,
      "outputs": [
        {
          "output_type": "display_data",
          "data": {
            "image/png": "[encoded data removed]",
            "text/plain": [
              "<Figure size 432x288 with 1 Axes>"
            ]
          },
          "metadata": {
            "tags": [],
            "needs_background": "light"
          }
        }
      ]
    },
    {
      "cell_type": "markdown",
      "metadata": {
        "id": "ob79h7Kc6k2Q"
      },
      "source": [
        "## 순환 층에 드롭아웃 적용하기"
      ]
    },
    {
      "cell_type": "code",
      "metadata": {
        "execution": {
          "iopub.execute_input": "2020-10-12T09:09:37.633391Z",
          "iopub.status.busy": "2020-10-12T09:09:37.631822Z",
          "iopub.status.idle": "2020-10-12T09:09:37.849640Z",
          "shell.execute_reply": "2020-10-12T09:09:37.850929Z"
        },
        "id": "Fr0DUR-Y6k2R"
      },
      "source": [
        "model2 = keras.Sequential()\n",
        "\n",
        "model2.add(keras.layers.Embedding(500, 16, input_length=100))\n",
        "model2.add(keras.layers.LSTM(8, dropout=0.3))\n",
        "model2.add(keras.layers.Dense(1, activation='sigmoid'))"
      ],
      "execution_count": 6,
      "outputs": []
    },
    {
      "cell_type": "code",
      "metadata": {
        "execution": {
          "iopub.execute_input": "2020-10-12T09:09:37.868353Z",
          "iopub.status.busy": "2020-10-12T09:09:37.866777Z",
          "iopub.status.idle": "2020-10-12T09:13:59.438760Z",
          "shell.execute_reply": "2020-10-12T09:13:59.440154Z"
        },
        "id": "Ap8XxUO46k2R",
        "outputId": "6bcdf6ef-5ba9-470c-a98e-1fde7fdddbb9",
        "colab": {
          "base_uri": "https://localhost:8080/"
        }
      },
      "source": [
        "rmsprop = keras.optimizers.RMSprop(learning_rate=1e-4)\n",
        "model2.compile(optimizer=rmsprop, loss='binary_crossentropy', \n",
        "               metrics=['accuracy'])\n",
        "\n",
        "checkpoint_cb = keras.callbacks.ModelCheckpoint('best-dropout-model.h5')\n",
        "early_stopping_cb = keras.callbacks.EarlyStopping(patience=3,\n",
        "                                                  restore_best_weights=True)\n",
        "\n",
        "history = model2.fit(train_seq, train_target, epochs=100, batch_size=64,\n",
        "                     validation_data=(val_seq, val_target),\n",
        "                     callbacks=[checkpoint_cb, early_stopping_cb])"
      ],
      "execution_count": 7,
      "outputs": [
        {
          "output_type": "stream",
          "text": [
            "Epoch 1/100\n",
            "313/313 [==============================] - 5s 10ms/step - loss: 0.6929 - accuracy: 0.5143 - val_loss: 0.6922 - val_accuracy: 0.5364\n",
            "Epoch 2/100\n",
            "313/313 [==============================] - 3s 9ms/step - loss: 0.6911 - accuracy: 0.5673 - val_loss: 0.6898 - val_accuracy: 0.5986\n",
            "Epoch 3/100\n",
            "313/313 [==============================] - 3s 8ms/step - loss: 0.6884 - accuracy: 0.6120 - val_loss: 0.6855 - val_accuracy: 0.6266\n",
            "Epoch 4/100\n",
            "313/313 [==============================] - 3s 9ms/step - loss: 0.6828 - accuracy: 0.6360 - val_loss: 0.6765 - val_accuracy: 0.6542\n",
            "Epoch 5/100\n",
            "313/313 [==============================] - 3s 9ms/step - loss: 0.6699 - accuracy: 0.6766 - val_loss: 0.6490 - val_accuracy: 0.6950\n",
            "Epoch 6/100\n",
            "313/313 [==============================] - 3s 8ms/step - loss: 0.6253 - accuracy: 0.7197 - val_loss: 0.5731 - val_accuracy: 0.7286\n",
            "Epoch 7/100\n",
            "313/313 [==============================] - 3s 9ms/step - loss: 0.5624 - accuracy: 0.7297 - val_loss: 0.5470 - val_accuracy: 0.7460\n",
            "Epoch 8/100\n",
            "313/313 [==============================] - 3s 9ms/step - loss: 0.5350 - accuracy: 0.7492 - val_loss: 0.5254 - val_accuracy: 0.7616\n",
            "Epoch 9/100\n",
            "313/313 [==============================] - 3s 9ms/step - loss: 0.5163 - accuracy: 0.7674 - val_loss: 0.5063 - val_accuracy: 0.7672\n",
            "Epoch 10/100\n",
            "313/313 [==============================] - 3s 9ms/step - loss: 0.5030 - accuracy: 0.7695 - val_loss: 0.4928 - val_accuracy: 0.7772\n",
            "Epoch 11/100\n",
            "313/313 [==============================] - 3s 9ms/step - loss: 0.4809 - accuracy: 0.7854 - val_loss: 0.4791 - val_accuracy: 0.7834\n",
            "Epoch 12/100\n",
            "313/313 [==============================] - 3s 8ms/step - loss: 0.4705 - accuracy: 0.7880 - val_loss: 0.4712 - val_accuracy: 0.7864\n",
            "Epoch 13/100\n",
            "313/313 [==============================] - 3s 10ms/step - loss: 0.4663 - accuracy: 0.7876 - val_loss: 0.4655 - val_accuracy: 0.7876\n",
            "Epoch 14/100\n",
            "313/313 [==============================] - 3s 9ms/step - loss: 0.4569 - accuracy: 0.7950 - val_loss: 0.4584 - val_accuracy: 0.7910\n",
            "Epoch 15/100\n",
            "313/313 [==============================] - 3s 9ms/step - loss: 0.4484 - accuracy: 0.7994 - val_loss: 0.4523 - val_accuracy: 0.7940\n",
            "Epoch 16/100\n",
            "313/313 [==============================] - 3s 9ms/step - loss: 0.4396 - accuracy: 0.8024 - val_loss: 0.4481 - val_accuracy: 0.7982\n",
            "Epoch 17/100\n",
            "313/313 [==============================] - 3s 9ms/step - loss: 0.4399 - accuracy: 0.8016 - val_loss: 0.4457 - val_accuracy: 0.7974\n",
            "Epoch 18/100\n",
            "313/313 [==============================] - 3s 9ms/step - loss: 0.4381 - accuracy: 0.7995 - val_loss: 0.4443 - val_accuracy: 0.7966\n",
            "Epoch 19/100\n",
            "313/313 [==============================] - 3s 9ms/step - loss: 0.4316 - accuracy: 0.8034 - val_loss: 0.4418 - val_accuracy: 0.7986\n",
            "Epoch 20/100\n",
            "313/313 [==============================] - 3s 9ms/step - loss: 0.4317 - accuracy: 0.8082 - val_loss: 0.4396 - val_accuracy: 0.7984\n",
            "Epoch 21/100\n",
            "313/313 [==============================] - 3s 9ms/step - loss: 0.4312 - accuracy: 0.8021 - val_loss: 0.4386 - val_accuracy: 0.7970\n",
            "Epoch 22/100\n",
            "313/313 [==============================] - 3s 9ms/step - loss: 0.4321 - accuracy: 0.8031 - val_loss: 0.4367 - val_accuracy: 0.7994\n",
            "Epoch 23/100\n",
            "313/313 [==============================] - 3s 9ms/step - loss: 0.4315 - accuracy: 0.8028 - val_loss: 0.4395 - val_accuracy: 0.7994\n",
            "Epoch 24/100\n",
            "313/313 [==============================] - 3s 9ms/step - loss: 0.4182 - accuracy: 0.8089 - val_loss: 0.4343 - val_accuracy: 0.7988\n",
            "Epoch 25/100\n",
            "313/313 [==============================] - 3s 9ms/step - loss: 0.4201 - accuracy: 0.8101 - val_loss: 0.4335 - val_accuracy: 0.8014\n",
            "Epoch 26/100\n",
            "313/313 [==============================] - 3s 9ms/step - loss: 0.4251 - accuracy: 0.8061 - val_loss: 0.4336 - val_accuracy: 0.7976\n",
            "Epoch 27/100\n",
            "313/313 [==============================] - 3s 9ms/step - loss: 0.4181 - accuracy: 0.8133 - val_loss: 0.4392 - val_accuracy: 0.8008\n",
            "Epoch 28/100\n",
            "313/313 [==============================] - 3s 9ms/step - loss: 0.4226 - accuracy: 0.8074 - val_loss: 0.4317 - val_accuracy: 0.8014\n",
            "Epoch 29/100\n",
            "313/313 [==============================] - 3s 9ms/step - loss: 0.4196 - accuracy: 0.8090 - val_loss: 0.4309 - val_accuracy: 0.8010\n",
            "Epoch 30/100\n",
            "313/313 [==============================] - 3s 9ms/step - loss: 0.4186 - accuracy: 0.8101 - val_loss: 0.4307 - val_accuracy: 0.8016\n",
            "Epoch 31/100\n",
            "313/313 [==============================] - 3s 9ms/step - loss: 0.4241 - accuracy: 0.8084 - val_loss: 0.4302 - val_accuracy: 0.8016\n",
            "Epoch 32/100\n",
            "313/313 [==============================] - 3s 9ms/step - loss: 0.4232 - accuracy: 0.8086 - val_loss: 0.4352 - val_accuracy: 0.7956\n",
            "Epoch 33/100\n",
            "313/313 [==============================] - 3s 8ms/step - loss: 0.4131 - accuracy: 0.8124 - val_loss: 0.4294 - val_accuracy: 0.8012\n",
            "Epoch 34/100\n",
            "313/313 [==============================] - 3s 9ms/step - loss: 0.4114 - accuracy: 0.8107 - val_loss: 0.4287 - val_accuracy: 0.8032\n",
            "Epoch 35/100\n",
            "313/313 [==============================] - 3s 9ms/step - loss: 0.4098 - accuracy: 0.8162 - val_loss: 0.4313 - val_accuracy: 0.8026\n",
            "Epoch 36/100\n",
            "313/313 [==============================] - 3s 10ms/step - loss: 0.4118 - accuracy: 0.8115 - val_loss: 0.4280 - val_accuracy: 0.8022\n",
            "Epoch 37/100\n",
            "313/313 [==============================] - 3s 9ms/step - loss: 0.4126 - accuracy: 0.8106 - val_loss: 0.4311 - val_accuracy: 0.8040\n",
            "Epoch 38/100\n",
            "313/313 [==============================] - 3s 9ms/step - loss: 0.4148 - accuracy: 0.8081 - val_loss: 0.4272 - val_accuracy: 0.8032\n",
            "Epoch 39/100\n",
            "313/313 [==============================] - 3s 10ms/step - loss: 0.4159 - accuracy: 0.8115 - val_loss: 0.4280 - val_accuracy: 0.8044\n",
            "Epoch 40/100\n",
            "313/313 [==============================] - 3s 9ms/step - loss: 0.4088 - accuracy: 0.8129 - val_loss: 0.4269 - val_accuracy: 0.8050\n",
            "Epoch 41/100\n",
            "313/313 [==============================] - 3s 9ms/step - loss: 0.4070 - accuracy: 0.8114 - val_loss: 0.4263 - val_accuracy: 0.8032\n",
            "Epoch 42/100\n",
            "313/313 [==============================] - 3s 9ms/step - loss: 0.4080 - accuracy: 0.8106 - val_loss: 0.4263 - val_accuracy: 0.8032\n",
            "Epoch 43/100\n",
            "313/313 [==============================] - 3s 9ms/step - loss: 0.4054 - accuracy: 0.8161 - val_loss: 0.4259 - val_accuracy: 0.8038\n",
            "Epoch 44/100\n",
            "313/313 [==============================] - 3s 8ms/step - loss: 0.4126 - accuracy: 0.8100 - val_loss: 0.4320 - val_accuracy: 0.8052\n",
            "Epoch 45/100\n",
            "313/313 [==============================] - 3s 9ms/step - loss: 0.4052 - accuracy: 0.8128 - val_loss: 0.4267 - val_accuracy: 0.8012\n",
            "Epoch 46/100\n",
            "313/313 [==============================] - 3s 8ms/step - loss: 0.4078 - accuracy: 0.8157 - val_loss: 0.4255 - val_accuracy: 0.8042\n",
            "Epoch 47/100\n",
            "313/313 [==============================] - 3s 9ms/step - loss: 0.4049 - accuracy: 0.8191 - val_loss: 0.4293 - val_accuracy: 0.8058\n",
            "Epoch 48/100\n",
            "313/313 [==============================] - 3s 8ms/step - loss: 0.4081 - accuracy: 0.8116 - val_loss: 0.4268 - val_accuracy: 0.7986\n",
            "Epoch 49/100\n",
            "313/313 [==============================] - 3s 9ms/step - loss: 0.4137 - accuracy: 0.8101 - val_loss: 0.4299 - val_accuracy: 0.8062\n"
          ],
          "name": "stdout"
        }
      ]
    },
    {
      "cell_type": "code",
      "metadata": {
        "execution": {
          "iopub.execute_input": "2020-10-12T09:13:59.466740Z",
          "iopub.status.busy": "2020-10-12T09:13:59.465154Z",
          "iopub.status.idle": "2020-10-12T09:14:00.055101Z",
          "shell.execute_reply": "2020-10-12T09:14:00.056561Z"
        },
        "id": "Qzwsp3pl6k2R",
        "outputId": "52aa03e0-44c0-4f7d-8c81-4fffcebc443e",
        "colab": {
          "base_uri": "https://localhost:8080/",
          "height": 300
        }
      },
      "source": [
        "plt.plot(history.history['loss'])\n",
        "plt.plot(history.history['val_loss'])\n",
        "plt.xlabel('epoch')\n",
        "plt.ylabel('loss')\n",
        "plt.legend(['train', 'val'])\n",
        "plt.show()"
      ],
      "execution_count": 8,
      "outputs": [
        {
          "output_type": "display_data",
          "data": {
            "image/png": "[encoded data removed]",
            "text/plain": [
              "<Figure size 432x288 with 1 Axes>"
            ]
          },
          "metadata": {
            "tags": [],
            "needs_background": "light"
          }
        }
      ]
    },
    {
      "cell_type": "markdown",
      "metadata": {
        "id": "DKtQByM96k2S"
      },
      "source": [
        "## 2개의 층을 연결하기"
      ]
    },
    {
      "cell_type": "code",
      "metadata": {
        "execution": {
          "iopub.execute_input": "2020-10-12T09:14:00.069924Z",
          "iopub.status.busy": "2020-10-12T09:14:00.068581Z",
          "iopub.status.idle": "2020-10-12T09:14:00.459073Z",
          "shell.execute_reply": "2020-10-12T09:14:00.460006Z"
        },
        "id": "YkQboCpD6k2S",
        "outputId": "b3672933-c691-41ba-836a-a665e0f3b085",
        "colab": {
          "base_uri": "https://localhost:8080/"
        }
      },
      "source": [
        "model3 = keras.Sequential()\n",
        "\n",
        "model3.add(keras.layers.Embedding(500, 16, input_length=100))\n",
        "model3.add(keras.layers.LSTM(8, dropout=0.3, return_sequences=True))\n",
        "model3.add(keras.layers.LSTM(8, dropout=0.3))\n",
        "model3.add(keras.layers.Dense(1, activation='sigmoid'))\n",
        "\n",
        "model3.summary()"
      ],
      "execution_count": 9,
      "outputs": [
        {
          "output_type": "stream",
          "text": [
            "Model: \"sequential_2\"\n",
            "_________________________________________________________________\n",
            "Layer (type)                 Output Shape              Param #   \n",
            "=================================================================\n",
            "embedding_2 (Embedding)      (None, 100, 16)           8000      \n",
            "_________________________________________________________________\n",
            "lstm_2 (LSTM)                (None, 100, 8)            800       \n",
            "_________________________________________________________________\n",
            "lstm_3 (LSTM)                (None, 8)                 544       \n",
            "_________________________________________________________________\n",
            "dense_2 (Dense)              (None, 1)                 9         \n",
            "=================================================================\n",
            "Total params: 9,353\n",
            "Trainable params: 9,353\n",
            "Non-trainable params: 0\n",
            "_________________________________________________________________\n"
          ],
          "name": "stdout"
        }
      ]
    },
    {
      "cell_type": "code",
      "metadata": {
        "execution": {
          "iopub.execute_input": "2020-10-12T09:14:00.485178Z",
          "iopub.status.busy": "2020-10-12T09:14:00.483959Z",
          "iopub.status.idle": "2020-10-12T09:20:24.570047Z",
          "shell.execute_reply": "2020-10-12T09:20:24.571421Z"
        },
        "id": "hDk_ffAo6k2S",
        "outputId": "5d0ef07d-f656-443d-8aeb-867c976d2499",
        "colab": {
          "base_uri": "https://localhost:8080/"
        }
      },
      "source": [
        "rmsprop = keras.optimizers.RMSprop(learning_rate=1e-4)\n",
        "model3.compile(optimizer=rmsprop, loss='binary_crossentropy', \n",
        "               metrics=['accuracy'])\n",
        "\n",
        "checkpoint_cb = keras.callbacks.ModelCheckpoint('best-2rnn-model.h5')\n",
        "early_stopping_cb = keras.callbacks.EarlyStopping(patience=3,\n",
        "                                                  restore_best_weights=True)\n",
        "\n",
        "history = model3.fit(train_seq, train_target, epochs=100, batch_size=64,\n",
        "                     validation_data=(val_seq, val_target),\n",
        "                     callbacks=[checkpoint_cb, early_stopping_cb])"
      ],
      "execution_count": 10,
      "outputs": [
        {
          "output_type": "stream",
          "text": [
            "Epoch 1/100\n",
            "313/313 [==============================] - 8s 16ms/step - loss: 0.6926 - accuracy: 0.5309 - val_loss: 0.6906 - val_accuracy: 0.5468\n",
            "Epoch 2/100\n",
            "313/313 [==============================] - 4s 14ms/step - loss: 0.6875 - accuracy: 0.5804 - val_loss: 0.6710 - val_accuracy: 0.6272\n",
            "Epoch 3/100\n",
            "313/313 [==============================] - 5s 15ms/step - loss: 0.6526 - accuracy: 0.6605 - val_loss: 0.5972 - val_accuracy: 0.7146\n",
            "Epoch 4/100\n",
            "313/313 [==============================] - 4s 14ms/step - loss: 0.5872 - accuracy: 0.7209 - val_loss: 0.5535 - val_accuracy: 0.7464\n",
            "Epoch 5/100\n",
            "313/313 [==============================] - 4s 13ms/step - loss: 0.5478 - accuracy: 0.7439 - val_loss: 0.5244 - val_accuracy: 0.7626\n",
            "Epoch 6/100\n",
            "313/313 [==============================] - 4s 13ms/step - loss: 0.5217 - accuracy: 0.7591 - val_loss: 0.5046 - val_accuracy: 0.7668\n",
            "Epoch 7/100\n",
            "313/313 [==============================] - 4s 14ms/step - loss: 0.5028 - accuracy: 0.7703 - val_loss: 0.4893 - val_accuracy: 0.7766\n",
            "Epoch 8/100\n",
            "313/313 [==============================] - 4s 13ms/step - loss: 0.4865 - accuracy: 0.7770 - val_loss: 0.4775 - val_accuracy: 0.7796\n",
            "Epoch 9/100\n",
            "313/313 [==============================] - 4s 14ms/step - loss: 0.4805 - accuracy: 0.7799 - val_loss: 0.4691 - val_accuracy: 0.7856\n",
            "Epoch 10/100\n",
            "313/313 [==============================] - 4s 13ms/step - loss: 0.4758 - accuracy: 0.7807 - val_loss: 0.4643 - val_accuracy: 0.7850\n",
            "Epoch 11/100\n",
            "313/313 [==============================] - 4s 14ms/step - loss: 0.4656 - accuracy: 0.7837 - val_loss: 0.4624 - val_accuracy: 0.7846\n",
            "Epoch 12/100\n",
            "313/313 [==============================] - 4s 14ms/step - loss: 0.4593 - accuracy: 0.7895 - val_loss: 0.4554 - val_accuracy: 0.7876\n",
            "Epoch 13/100\n",
            "313/313 [==============================] - 4s 13ms/step - loss: 0.4542 - accuracy: 0.7914 - val_loss: 0.4520 - val_accuracy: 0.7942\n",
            "Epoch 14/100\n",
            "313/313 [==============================] - 4s 14ms/step - loss: 0.4493 - accuracy: 0.7980 - val_loss: 0.4493 - val_accuracy: 0.7944\n",
            "Epoch 15/100\n",
            "313/313 [==============================] - 4s 14ms/step - loss: 0.4496 - accuracy: 0.7922 - val_loss: 0.4479 - val_accuracy: 0.7958\n",
            "Epoch 16/100\n",
            "313/313 [==============================] - 5s 14ms/step - loss: 0.4457 - accuracy: 0.7969 - val_loss: 0.4461 - val_accuracy: 0.7892\n",
            "Epoch 17/100\n",
            "313/313 [==============================] - 4s 14ms/step - loss: 0.4406 - accuracy: 0.8010 - val_loss: 0.4493 - val_accuracy: 0.7940\n",
            "Epoch 18/100\n",
            "313/313 [==============================] - 4s 14ms/step - loss: 0.4447 - accuracy: 0.7977 - val_loss: 0.4422 - val_accuracy: 0.7934\n",
            "Epoch 19/100\n",
            "313/313 [==============================] - 5s 14ms/step - loss: 0.4289 - accuracy: 0.8088 - val_loss: 0.4419 - val_accuracy: 0.7954\n",
            "Epoch 20/100\n",
            "313/313 [==============================] - 5s 15ms/step - loss: 0.4330 - accuracy: 0.8048 - val_loss: 0.4434 - val_accuracy: 0.7894\n",
            "Epoch 21/100\n",
            "313/313 [==============================] - 4s 14ms/step - loss: 0.4373 - accuracy: 0.8002 - val_loss: 0.4430 - val_accuracy: 0.7912\n",
            "Epoch 22/100\n",
            "313/313 [==============================] - 4s 13ms/step - loss: 0.4326 - accuracy: 0.8032 - val_loss: 0.4378 - val_accuracy: 0.7968\n",
            "Epoch 23/100\n",
            "313/313 [==============================] - 4s 13ms/step - loss: 0.4285 - accuracy: 0.8042 - val_loss: 0.4382 - val_accuracy: 0.8012\n",
            "Epoch 24/100\n",
            "313/313 [==============================] - 4s 13ms/step - loss: 0.4337 - accuracy: 0.8037 - val_loss: 0.4378 - val_accuracy: 0.7968\n",
            "Epoch 25/100\n",
            "313/313 [==============================] - 4s 14ms/step - loss: 0.4270 - accuracy: 0.8079 - val_loss: 0.4384 - val_accuracy: 0.8018\n"
          ],
          "name": "stdout"
        }
      ]
    },
    {
      "cell_type": "code",
      "metadata": {
        "execution": {
          "iopub.execute_input": "2020-10-12T09:20:24.599872Z",
          "iopub.status.busy": "2020-10-12T09:20:24.598716Z",
          "iopub.status.idle": "2020-10-12T09:20:25.172291Z",
          "shell.execute_reply": "2020-10-12T09:20:25.173681Z"
        },
        "id": "1paBqczf6k2S",
        "outputId": "3a130a0d-596a-44f5-906b-0c4a2f3bf5c5",
        "colab": {
          "base_uri": "https://localhost:8080/",
          "height": 300
        }
      },
      "source": [
        "plt.plot(history.history['loss'])\n",
        "plt.plot(history.history['val_loss'])\n",
        "plt.xlabel('epoch')\n",
        "plt.ylabel('loss')\n",
        "plt.legend(['train', 'val'])\n",
        "plt.show()"
      ],
      "execution_count": 11,
      "outputs": [
        {
          "output_type": "display_data",
          "data": {
            "image/png": "[encoded data removed]",
            "text/plain": [
              "<Figure size 432x288 with 1 Axes>"
            ]
          },
          "metadata": {
            "tags": [],
            "needs_background": "light"
          }
        }
      ]
    },
    {
      "cell_type": "markdown",
      "metadata": {
        "id": "Jisn0P9h6k2T"
      },
      "source": [
        "## GRU 신경망 훈련하기"
      ]
    },
    {
      "cell_type": "code",
      "metadata": {
        "execution": {
          "iopub.execute_input": "2020-10-12T09:20:25.189832Z",
          "iopub.status.busy": "2020-10-12T09:20:25.188004Z",
          "iopub.status.idle": "2020-10-12T09:20:25.402624Z",
          "shell.execute_reply": "2020-10-12T09:20:25.401128Z"
        },
        "id": "dwYF578d6k2T",
        "outputId": "03fda609-edfd-4067-c882-954aac210c57",
        "colab": {
          "base_uri": "https://localhost:8080/"
        }
      },
      "source": [
        "model4 = keras.Sequential()\n",
        "\n",
        "model4.add(keras.layers.Embedding(500, 16, input_length=100))\n",
        "model4.add(keras.layers.GRU(8))\n",
        "model4.add(keras.layers.Dense(1, activation='sigmoid'))\n",
        "\n",
        "model4.summary()"
      ],
      "execution_count": 12,
      "outputs": [
        {
          "output_type": "stream",
          "text": [
            "Model: \"sequential_3\"\n",
            "_________________________________________________________________\n",
            "Layer (type)                 Output Shape              Param #   \n",
            "=================================================================\n",
            "embedding_3 (Embedding)      (None, 100, 16)           8000      \n",
            "_________________________________________________________________\n",
            "gru (GRU)                    (None, 8)                 624       \n",
            "_________________________________________________________________\n",
            "dense_3 (Dense)              (None, 1)                 9         \n",
            "=================================================================\n",
            "Total params: 8,633\n",
            "Trainable params: 8,633\n",
            "Non-trainable params: 0\n",
            "_________________________________________________________________\n"
          ],
          "name": "stdout"
        }
      ]
    },
    {
      "cell_type": "code",
      "metadata": {
        "execution": {
          "iopub.execute_input": "2020-10-12T09:20:25.420177Z",
          "iopub.status.busy": "2020-10-12T09:20:25.419630Z",
          "iopub.status.idle": "2020-10-12T09:25:10.574200Z",
          "shell.execute_reply": "2020-10-12T09:25:10.575704Z"
        },
        "id": "j2SfOZ3v6k2U",
        "outputId": "e8aa4423-8de6-4886-807b-b479fbfa98a0",
        "colab": {
          "base_uri": "https://localhost:8080/"
        }
      },
      "source": [
        "rmsprop = keras.optimizers.RMSprop(learning_rate=1e-4)\n",
        "model4.compile(optimizer=rmsprop, loss='binary_crossentropy', \n",
        "               metrics=['accuracy'])\n",
        "\n",
        "checkpoint_cb = keras.callbacks.ModelCheckpoint('best-gru-model.h5')\n",
        "early_stopping_cb = keras.callbacks.EarlyStopping(patience=3,\n",
        "                                                  restore_best_weights=True)\n",
        "\n",
        "history = model4.fit(train_seq, train_target, epochs=100, batch_size=64,\n",
        "                     validation_data=(val_seq, val_target),\n",
        "                     callbacks=[checkpoint_cb, early_stopping_cb])"
      ],
      "execution_count": 13,
      "outputs": [
        {
          "output_type": "stream",
          "text": [
            "Epoch 1/100\n",
            "313/313 [==============================] - 4s 10ms/step - loss: 0.6924 - accuracy: 0.5098 - val_loss: 0.6902 - val_accuracy: 0.5562\n",
            "Epoch 2/100\n",
            "313/313 [==============================] - 2s 8ms/step - loss: 0.6892 - accuracy: 0.5702 - val_loss: 0.6862 - val_accuracy: 0.5824\n",
            "Epoch 3/100\n",
            "313/313 [==============================] - 3s 9ms/step - loss: 0.6840 - accuracy: 0.5929 - val_loss: 0.6797 - val_accuracy: 0.6008\n",
            "Epoch 4/100\n",
            "313/313 [==============================] - 3s 8ms/step - loss: 0.6760 - accuracy: 0.6173 - val_loss: 0.6689 - val_accuracy: 0.6188\n",
            "Epoch 5/100\n",
            "313/313 [==============================] - 3s 8ms/step - loss: 0.6623 - accuracy: 0.6401 - val_loss: 0.6515 - val_accuracy: 0.6432\n",
            "Epoch 6/100\n",
            "313/313 [==============================] - 3s 9ms/step - loss: 0.6406 - accuracy: 0.6639 - val_loss: 0.6213 - val_accuracy: 0.6690\n",
            "Epoch 7/100\n",
            "313/313 [==============================] - 3s 9ms/step - loss: 0.6021 - accuracy: 0.6911 - val_loss: 0.5676 - val_accuracy: 0.7114\n",
            "Epoch 8/100\n",
            "313/313 [==============================] - 3s 9ms/step - loss: 0.5435 - accuracy: 0.7262 - val_loss: 0.5202 - val_accuracy: 0.7474\n",
            "Epoch 9/100\n",
            "313/313 [==============================] - 2s 8ms/step - loss: 0.5030 - accuracy: 0.7575 - val_loss: 0.5025 - val_accuracy: 0.7594\n",
            "Epoch 10/100\n",
            "313/313 [==============================] - 3s 8ms/step - loss: 0.4887 - accuracy: 0.7697 - val_loss: 0.4891 - val_accuracy: 0.7702\n",
            "Epoch 11/100\n",
            "313/313 [==============================] - 3s 8ms/step - loss: 0.4687 - accuracy: 0.7831 - val_loss: 0.4802 - val_accuracy: 0.7732\n",
            "Epoch 12/100\n",
            "313/313 [==============================] - 2s 8ms/step - loss: 0.4554 - accuracy: 0.7951 - val_loss: 0.4731 - val_accuracy: 0.7770\n",
            "Epoch 13/100\n",
            "313/313 [==============================] - 3s 8ms/step - loss: 0.4572 - accuracy: 0.7896 - val_loss: 0.4677 - val_accuracy: 0.7830\n",
            "Epoch 14/100\n",
            "313/313 [==============================] - 3s 9ms/step - loss: 0.4433 - accuracy: 0.7992 - val_loss: 0.4638 - val_accuracy: 0.7868\n",
            "Epoch 15/100\n",
            "313/313 [==============================] - 3s 9ms/step - loss: 0.4425 - accuracy: 0.7986 - val_loss: 0.4586 - val_accuracy: 0.7830\n",
            "Epoch 16/100\n",
            "313/313 [==============================] - 3s 9ms/step - loss: 0.4382 - accuracy: 0.8010 - val_loss: 0.4617 - val_accuracy: 0.7894\n",
            "Epoch 17/100\n",
            "313/313 [==============================] - 3s 9ms/step - loss: 0.4376 - accuracy: 0.8043 - val_loss: 0.4544 - val_accuracy: 0.7860\n",
            "Epoch 18/100\n",
            "313/313 [==============================] - 3s 9ms/step - loss: 0.4295 - accuracy: 0.8077 - val_loss: 0.4542 - val_accuracy: 0.7836\n",
            "Epoch 19/100\n",
            "313/313 [==============================] - 3s 9ms/step - loss: 0.4305 - accuracy: 0.8047 - val_loss: 0.4539 - val_accuracy: 0.7944\n",
            "Epoch 20/100\n",
            "313/313 [==============================] - 3s 8ms/step - loss: 0.4221 - accuracy: 0.8130 - val_loss: 0.4495 - val_accuracy: 0.7894\n",
            "Epoch 21/100\n",
            "313/313 [==============================] - 3s 9ms/step - loss: 0.4303 - accuracy: 0.8067 - val_loss: 0.4481 - val_accuracy: 0.7926\n",
            "Epoch 22/100\n",
            "313/313 [==============================] - 3s 8ms/step - loss: 0.4234 - accuracy: 0.8140 - val_loss: 0.4490 - val_accuracy: 0.7934\n",
            "Epoch 23/100\n",
            "313/313 [==============================] - 3s 8ms/step - loss: 0.4202 - accuracy: 0.8140 - val_loss: 0.4467 - val_accuracy: 0.7896\n",
            "Epoch 24/100\n",
            "313/313 [==============================] - 3s 9ms/step - loss: 0.4193 - accuracy: 0.8161 - val_loss: 0.4487 - val_accuracy: 0.7894\n",
            "Epoch 25/100\n",
            "313/313 [==============================] - 3s 8ms/step - loss: 0.4265 - accuracy: 0.8096 - val_loss: 0.4516 - val_accuracy: 0.7930\n",
            "Epoch 26/100\n",
            "313/313 [==============================] - 3s 8ms/step - loss: 0.4226 - accuracy: 0.8120 - val_loss: 0.4482 - val_accuracy: 0.7884\n"
          ],
          "name": "stdout"
        }
      ]
    },
    {
      "cell_type": "code",
      "metadata": {
        "execution": {
          "iopub.execute_input": "2020-10-12T09:25:10.602797Z",
          "iopub.status.busy": "2020-10-12T09:25:10.601459Z",
          "iopub.status.idle": "2020-10-12T09:25:11.203520Z",
          "shell.execute_reply": "2020-10-12T09:25:11.202193Z"
        },
        "id": "3yUJM4nA6k2U",
        "outputId": "b0858a15-2f62-4988-c678-f3fbf5870c75",
        "colab": {
          "base_uri": "https://localhost:8080/",
          "height": 300
        }
      },
      "source": [
        "plt.plot(history.history['loss'])\n",
        "plt.plot(history.history['val_loss'])\n",
        "plt.xlabel('epoch')\n",
        "plt.ylabel('loss')\n",
        "plt.legend(['train', 'val'])\n",
        "plt.show()"
      ],
      "execution_count": 14,
      "outputs": [
        {
          "output_type": "display_data",
          "data": {
            "image/png": "[encoded data removed]",
            "text/plain": [
              "<Figure size 432x288 with 1 Axes>"
            ]
          },
          "metadata": {
            "tags": [],
            "needs_background": "light"
          }
        }
      ]
    },
    {
      "cell_type": "markdown",
      "metadata": {
        "id": "Ja3-116b6k2V"
      },
      "source": [
        "## 마무리"
      ]
    },
    {
      "cell_type": "code",
      "metadata": {
        "id": "-5WtFRN-6k2V",
        "outputId": "2d541052-8624-4388-fe80-c05be86d955b",
        "colab": {
          "base_uri": "https://localhost:8080/"
        }
      },
      "source": [
        "test_seq = pad_sequences(test_input, maxlen=100)\n",
        "\n",
        "rnn_model = keras.models.load_model('best-2rnn-model.h5')\n",
        "# 텐서플로 2.3에서는 버그(https://github.com/tensorflow/tensorflow/issues/42890) 때문에 compile() 메서드를 호출해야 합니다.\n",
        "# rnn_model.compile(optimizer='rmsprop', loss='binary_crossentropy', metrics='accuracy')\n",
        "\n",
        "rnn_model.evaluate(test_seq, test_target)"
      ],
      "execution_count": 15,
      "outputs": [
        {
          "output_type": "stream",
          "text": [
            "782/782 [==============================] - 5s 6ms/step - loss: 0.4335 - accuracy: 0.7988\n"
          ],
          "name": "stdout"
        },
        {
          "output_type": "execute_result",
          "data": {
            "text/plain": [
              "[0.433514803647995, 0.7987599968910217]"
            ]
          },
          "metadata": {
            "tags": []
          },
          "execution_count": 15
        }
      ]
    }
  ]
}