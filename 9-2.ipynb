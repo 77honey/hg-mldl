{
 "cells": [
  {
   "cell_type": "markdown",
   "metadata": {},
   "source": [
    "# 9-2 순환 신경망으로 IMDB 리뷰 분류하기"
   ]
  },
  {
   "cell_type": "markdown",
   "metadata": {},
   "source": [
    "## IMDB 리뷰 데이터셋"
   ]
  },
  {
   "cell_type": "code",
   "execution_count": 1,
   "metadata": {
    "execution": {
     "iopub.execute_input": "2020-10-11T10:02:38.962024Z",
     "iopub.status.busy": "2020-10-11T10:02:38.960854Z",
     "iopub.status.idle": "2020-10-11T10:02:49.640892Z",
     "shell.execute_reply": "2020-10-11T10:02:49.642355Z"
    }
   },
   "outputs": [],
   "source": [
    "from tensorflow.keras.datasets import imdb\n",
    "\n",
    "(train_input, train_target), (test_input, test_target) = imdb.load_data(num_words=500)"
   ]
  },
  {
   "cell_type": "code",
   "execution_count": 2,
   "metadata": {
    "execution": {
     "iopub.execute_input": "2020-10-11T10:02:49.652642Z",
     "iopub.status.busy": "2020-10-11T10:02:49.650918Z",
     "iopub.status.idle": "2020-10-11T10:02:49.655665Z",
     "shell.execute_reply": "2020-10-11T10:02:49.656571Z"
    }
   },
   "outputs": [
    {
     "name": "stdout",
     "output_type": "stream",
     "text": [
      "(25000,) (25000,)\n"
     ]
    }
   ],
   "source": [
    "print(train_input.shape, test_input.shape)"
   ]
  },
  {
   "cell_type": "code",
   "execution_count": 3,
   "metadata": {
    "execution": {
     "iopub.execute_input": "2020-10-11T10:02:49.664096Z",
     "iopub.status.busy": "2020-10-11T10:02:49.663013Z",
     "iopub.status.idle": "2020-10-11T10:02:49.666796Z",
     "shell.execute_reply": "2020-10-11T10:02:49.667652Z"
    }
   },
   "outputs": [
    {
     "name": "stdout",
     "output_type": "stream",
     "text": [
      "218\n"
     ]
    }
   ],
   "source": [
    "print(len(train_input[0]))"
   ]
  },
  {
   "cell_type": "code",
   "execution_count": 4,
   "metadata": {
    "execution": {
     "iopub.execute_input": "2020-10-11T10:02:49.674514Z",
     "iopub.status.busy": "2020-10-11T10:02:49.673490Z",
     "iopub.status.idle": "2020-10-11T10:02:49.677533Z",
     "shell.execute_reply": "2020-10-11T10:02:49.678391Z"
    }
   },
   "outputs": [
    {
     "name": "stdout",
     "output_type": "stream",
     "text": [
      "189\n"
     ]
    }
   ],
   "source": [
    "print(len(train_input[1]))"
   ]
  },
  {
   "cell_type": "code",
   "execution_count": 5,
   "metadata": {
    "execution": {
     "iopub.execute_input": "2020-10-11T10:02:49.685244Z",
     "iopub.status.busy": "2020-10-11T10:02:49.684198Z",
     "iopub.status.idle": "2020-10-11T10:02:49.688308Z",
     "shell.execute_reply": "2020-10-11T10:02:49.689250Z"
    }
   },
   "outputs": [
    {
     "name": "stdout",
     "output_type": "stream",
     "text": [
      "[1, 14, 22, 16, 43, 2, 2, 2, 2, 65, 458, 2, 66, 2, 4, 173, 36, 256, 5, 25, 100, 43, 2, 112, 50, 2, 2, 9, 35, 480, 284, 5, 150, 4, 172, 112, 167, 2, 336, 385, 39, 4, 172, 2, 2, 17, 2, 38, 13, 447, 4, 192, 50, 16, 6, 147, 2, 19, 14, 22, 4, 2, 2, 469, 4, 22, 71, 87, 12, 16, 43, 2, 38, 76, 15, 13, 2, 4, 22, 17, 2, 17, 12, 16, 2, 18, 2, 5, 62, 386, 12, 8, 316, 8, 106, 5, 4, 2, 2, 16, 480, 66, 2, 33, 4, 130, 12, 16, 38, 2, 5, 25, 124, 51, 36, 135, 48, 25, 2, 33, 6, 22, 12, 215, 28, 77, 52, 5, 14, 407, 16, 82, 2, 8, 4, 107, 117, 2, 15, 256, 4, 2, 7, 2, 5, 2, 36, 71, 43, 2, 476, 26, 400, 317, 46, 7, 4, 2, 2, 13, 104, 88, 4, 381, 15, 297, 98, 32, 2, 56, 26, 141, 6, 194, 2, 18, 4, 226, 22, 21, 134, 476, 26, 480, 5, 144, 30, 2, 18, 51, 36, 28, 224, 92, 25, 104, 4, 226, 65, 16, 38, 2, 88, 12, 16, 283, 5, 16, 2, 113, 103, 32, 15, 16, 2, 19, 178, 32]\n"
     ]
    }
   ],
   "source": [
    "print(train_input[0])"
   ]
  },
  {
   "cell_type": "code",
   "execution_count": 6,
   "metadata": {
    "execution": {
     "iopub.execute_input": "2020-10-11T10:02:49.696683Z",
     "iopub.status.busy": "2020-10-11T10:02:49.695594Z",
     "iopub.status.idle": "2020-10-11T10:02:49.699862Z",
     "shell.execute_reply": "2020-10-11T10:02:49.700847Z"
    }
   },
   "outputs": [
    {
     "name": "stdout",
     "output_type": "stream",
     "text": [
      "[1 0 0 1 0 0 1 0 1 0 1 0 0 0 0 0 1 1 0 1]\n"
     ]
    }
   ],
   "source": [
    "print(train_target[:20])"
   ]
  },
  {
   "cell_type": "code",
   "execution_count": 7,
   "metadata": {
    "execution": {
     "iopub.execute_input": "2020-10-11T10:02:49.709151Z",
     "iopub.status.busy": "2020-10-11T10:02:49.707919Z",
     "iopub.status.idle": "2020-10-11T10:02:50.112347Z",
     "shell.execute_reply": "2020-10-11T10:02:50.113563Z"
    }
   },
   "outputs": [],
   "source": [
    "from sklearn.model_selection import train_test_split\n",
    "\n",
    "train_input, val_input, train_target, val_target = train_test_split(\n",
    "    train_input, train_target, test_size=0.2, random_state=42)"
   ]
  },
  {
   "cell_type": "code",
   "execution_count": 8,
   "metadata": {
    "execution": {
     "iopub.execute_input": "2020-10-11T10:02:50.134488Z",
     "iopub.status.busy": "2020-10-11T10:02:50.132941Z",
     "iopub.status.idle": "2020-10-11T10:02:50.136031Z",
     "shell.execute_reply": "2020-10-11T10:02:50.137250Z"
    }
   },
   "outputs": [],
   "source": [
    "import numpy as np\n",
    "\n",
    "lengths = np.array([len(x) for x in train_input])"
   ]
  },
  {
   "cell_type": "code",
   "execution_count": 9,
   "metadata": {
    "execution": {
     "iopub.execute_input": "2020-10-11T10:02:50.145080Z",
     "iopub.status.busy": "2020-10-11T10:02:50.143544Z",
     "iopub.status.idle": "2020-10-11T10:02:50.148922Z",
     "shell.execute_reply": "2020-10-11T10:02:50.149737Z"
    }
   },
   "outputs": [
    {
     "name": "stdout",
     "output_type": "stream",
     "text": [
      "239.00925 178.0\n"
     ]
    }
   ],
   "source": [
    "print(np.mean(lengths), np.median(lengths))"
   ]
  },
  {
   "cell_type": "code",
   "execution_count": 10,
   "metadata": {
    "execution": {
     "iopub.execute_input": "2020-10-11T10:02:50.181745Z",
     "iopub.status.busy": "2020-10-11T10:02:50.180698Z",
     "iopub.status.idle": "2020-10-11T10:02:50.555552Z",
     "shell.execute_reply": "2020-10-11T10:02:50.556785Z"
    }
   },
   "outputs": [
    {
     "data": {
      "image/png": "[encoded data removed]",
      "text/plain": [
       "<Figure size 432x288 with 1 Axes>"
      ]
     },
     "metadata": {
      "needs_background": "light"
     },
     "output_type": "display_data"
    }
   ],
   "source": [
    "import matplotlib.pyplot as plt\n",
    "\n",
    "plt.hist(lengths)\n",
    "plt.xlabel('length')\n",
    "plt.ylabel('frequency')\n",
    "plt.show()"
   ]
  },
  {
   "cell_type": "code",
   "execution_count": 11,
   "metadata": {
    "execution": {
     "iopub.execute_input": "2020-10-11T10:02:50.574836Z",
     "iopub.status.busy": "2020-10-11T10:02:50.573475Z",
     "iopub.status.idle": "2020-10-11T10:02:51.047420Z",
     "shell.execute_reply": "2020-10-11T10:02:51.046043Z"
    }
   },
   "outputs": [],
   "source": [
    "from tensorflow.keras.preprocessing.sequence import pad_sequences\n",
    "\n",
    "train_seq = pad_sequences(train_input, maxlen=100)"
   ]
  },
  {
   "cell_type": "code",
   "execution_count": 12,
   "metadata": {
    "execution": {
     "iopub.execute_input": "2020-10-11T10:02:51.054371Z",
     "iopub.status.busy": "2020-10-11T10:02:51.052776Z",
     "iopub.status.idle": "2020-10-11T10:02:51.057828Z",
     "shell.execute_reply": "2020-10-11T10:02:51.058641Z"
    }
   },
   "outputs": [
    {
     "name": "stdout",
     "output_type": "stream",
     "text": [
      "(20000, 100)\n"
     ]
    }
   ],
   "source": [
    "print(train_seq.shape)"
   ]
  },
  {
   "cell_type": "code",
   "execution_count": 13,
   "metadata": {
    "execution": {
     "iopub.execute_input": "2020-10-11T10:02:51.066494Z",
     "iopub.status.busy": "2020-10-11T10:02:51.065518Z",
     "iopub.status.idle": "2020-10-11T10:02:51.070348Z",
     "shell.execute_reply": "2020-10-11T10:02:51.071218Z"
    }
   },
   "outputs": [
    {
     "name": "stdout",
     "output_type": "stream",
     "text": [
      "[ 10   4  20   9   2 364 352   5  45   6   2   2  33 269   8   2 142   2\n",
      "   5   2  17  73  17 204   5   2  19  55   2   2  92  66 104  14  20  93\n",
      "  76   2 151  33   4  58  12 188   2 151  12 215  69 224 142  73 237   6\n",
      "   2   7   2   2 188   2 103  14  31  10  10 451   7   2   5   2  80  91\n",
      "   2  30   2  34  14  20 151  50  26 131  49   2  84  46  50  37  80  79\n",
      "   6   2  46   7  14  20  10  10 470 158]\n"
     ]
    }
   ],
   "source": [
    "print(train_seq[0])"
   ]
  },
  {
   "cell_type": "code",
   "execution_count": 14,
   "metadata": {
    "execution": {
     "iopub.execute_input": "2020-10-11T10:02:51.078769Z",
     "iopub.status.busy": "2020-10-11T10:02:51.077681Z",
     "iopub.status.idle": "2020-10-11T10:02:51.082314Z",
     "shell.execute_reply": "2020-10-11T10:02:51.083220Z"
    }
   },
   "outputs": [
    {
     "name": "stdout",
     "output_type": "stream",
     "text": [
      "[6, 2, 46, 7, 14, 20, 10, 10, 470, 158]\n"
     ]
    }
   ],
   "source": [
    "print(train_input[0][-10:])"
   ]
  },
  {
   "cell_type": "code",
   "execution_count": 15,
   "metadata": {
    "execution": {
     "iopub.execute_input": "2020-10-11T10:02:51.091099Z",
     "iopub.status.busy": "2020-10-11T10:02:51.090014Z",
     "iopub.status.idle": "2020-10-11T10:02:51.095462Z",
     "shell.execute_reply": "2020-10-11T10:02:51.096874Z"
    },
    "scrolled": true
   },
   "outputs": [
    {
     "name": "stdout",
     "output_type": "stream",
     "text": [
      "[  0   0   0   0   1   2 195  19  49   2   2 190   4   2 352   2 183  10\n",
      "  10  13  82  79   4   2  36  71 269   8   2  25  19  49   7   4   2   2\n",
      "   2   2   2  10  10  48  25  40   2  11   2   2  40   2   2   5   4   2\n",
      "   2  95  14 238  56 129   2  10  10  21   2  94 364 352   2   2  11 190\n",
      "  24 484   2   7  94 205 405  10  10  87   2  34  49   2   7   2   2   2\n",
      "   2   2 290   2  46  48  64  18   4   2]\n"
     ]
    }
   ],
   "source": [
    "print(train_seq[5])"
   ]
  },
  {
   "cell_type": "code",
   "execution_count": 16,
   "metadata": {
    "execution": {
     "iopub.execute_input": "2020-10-11T10:02:51.107195Z",
     "iopub.status.busy": "2020-10-11T10:02:51.106037Z",
     "iopub.status.idle": "2020-10-11T10:02:51.226776Z",
     "shell.execute_reply": "2020-10-11T10:02:51.225733Z"
    }
   },
   "outputs": [],
   "source": [
    "val_seq = pad_sequences(val_input, maxlen=100)"
   ]
  },
  {
   "cell_type": "markdown",
   "metadata": {},
   "source": [
    "## 순환 신경망 만들기"
   ]
  },
  {
   "cell_type": "code",
   "execution_count": 17,
   "metadata": {
    "execution": {
     "iopub.execute_input": "2020-10-11T10:02:51.233709Z",
     "iopub.status.busy": "2020-10-11T10:02:51.232431Z",
     "iopub.status.idle": "2020-10-11T10:02:53.038496Z",
     "shell.execute_reply": "2020-10-11T10:02:53.036906Z"
    }
   },
   "outputs": [],
   "source": [
    "from tensorflow import keras\n",
    "\n",
    "model = keras.Sequential()\n",
    "\n",
    "model.add(keras.layers.SimpleRNN(8, input_shape=(100, 500)))\n",
    "model.add(keras.layers.Dense(1, activation='sigmoid'))"
   ]
  },
  {
   "cell_type": "code",
   "execution_count": 18,
   "metadata": {
    "execution": {
     "iopub.execute_input": "2020-10-11T10:02:53.046197Z",
     "iopub.status.busy": "2020-10-11T10:02:53.044431Z",
     "iopub.status.idle": "2020-10-11T10:02:54.813844Z",
     "shell.execute_reply": "2020-10-11T10:02:54.815153Z"
    }
   },
   "outputs": [],
   "source": [
    "train_oh = keras.utils.to_categorical(train_seq)"
   ]
  },
  {
   "cell_type": "code",
   "execution_count": 19,
   "metadata": {
    "execution": {
     "iopub.execute_input": "2020-10-11T10:02:54.822141Z",
     "iopub.status.busy": "2020-10-11T10:02:54.820536Z",
     "iopub.status.idle": "2020-10-11T10:02:54.825569Z",
     "shell.execute_reply": "2020-10-11T10:02:54.826383Z"
    }
   },
   "outputs": [
    {
     "name": "stdout",
     "output_type": "stream",
     "text": [
      "(20000, 100, 500)\n"
     ]
    }
   ],
   "source": [
    "print(train_oh.shape)"
   ]
  },
  {
   "cell_type": "code",
   "execution_count": 20,
   "metadata": {
    "execution": {
     "iopub.execute_input": "2020-10-11T10:02:54.834730Z",
     "iopub.status.busy": "2020-10-11T10:02:54.833764Z",
     "iopub.status.idle": "2020-10-11T10:02:54.838518Z",
     "shell.execute_reply": "2020-10-11T10:02:54.839445Z"
    }
   },
   "outputs": [
    {
     "name": "stdout",
     "output_type": "stream",
     "text": [
      "[0. 0. 0. 0. 0. 0. 0. 0. 0. 0. 1. 0.]\n"
     ]
    }
   ],
   "source": [
    "print(train_oh[0][0][:12])"
   ]
  },
  {
   "cell_type": "code",
   "execution_count": 21,
   "metadata": {
    "execution": {
     "iopub.execute_input": "2020-10-11T10:02:54.847683Z",
     "iopub.status.busy": "2020-10-11T10:02:54.846534Z",
     "iopub.status.idle": "2020-10-11T10:02:54.850769Z",
     "shell.execute_reply": "2020-10-11T10:02:54.851742Z"
    }
   },
   "outputs": [
    {
     "name": "stdout",
     "output_type": "stream",
     "text": [
      "1.0\n"
     ]
    }
   ],
   "source": [
    "print(np.sum(train_oh[0][0]))"
   ]
  },
  {
   "cell_type": "code",
   "execution_count": 22,
   "metadata": {
    "execution": {
     "iopub.execute_input": "2020-10-11T10:02:54.858543Z",
     "iopub.status.busy": "2020-10-11T10:02:54.857381Z",
     "iopub.status.idle": "2020-10-11T10:02:55.305268Z",
     "shell.execute_reply": "2020-10-11T10:02:55.304187Z"
    }
   },
   "outputs": [],
   "source": [
    "val_oh = keras.utils.to_categorical(val_seq)"
   ]
  },
  {
   "cell_type": "code",
   "execution_count": 23,
   "metadata": {
    "execution": {
     "iopub.execute_input": "2020-10-11T10:02:55.313426Z",
     "iopub.status.busy": "2020-10-11T10:02:55.311681Z",
     "iopub.status.idle": "2020-10-11T10:02:55.317827Z",
     "shell.execute_reply": "2020-10-11T10:02:55.318688Z"
    }
   },
   "outputs": [
    {
     "name": "stdout",
     "output_type": "stream",
     "text": [
      "Model: \"sequential\"\n",
      "_________________________________________________________________\n",
      "Layer (type)                 Output Shape              Param #   \n",
      "=================================================================\n",
      "simple_rnn (SimpleRNN)       (None, 8)                 4072      \n",
      "_________________________________________________________________\n",
      "dense (Dense)                (None, 1)                 9         \n",
      "=================================================================\n",
      "Total params: 4,081\n",
      "Trainable params: 4,081\n",
      "Non-trainable params: 0\n",
      "_________________________________________________________________\n"
     ]
    }
   ],
   "source": [
    "model.summary()"
   ]
  },
  {
   "cell_type": "markdown",
   "metadata": {},
   "source": [
    "## 순환 신경망 훈련하기"
   ]
  },
  {
   "cell_type": "code",
   "execution_count": 24,
   "metadata": {
    "execution": {
     "iopub.execute_input": "2020-10-11T10:02:55.342617Z",
     "iopub.status.busy": "2020-10-11T10:02:55.341584Z",
     "iopub.status.idle": "2020-10-11T10:21:38.762868Z",
     "shell.execute_reply": "2020-10-11T10:21:38.764264Z"
    }
   },
   "outputs": [
    {
     "name": "stdout",
     "output_type": "stream",
     "text": [
      "Epoch 1/100\n",
      "625/625 [==============================] - 31s 49ms/step - loss: 0.6982 - accuracy: 0.5049 - val_loss: 0.6926 - val_accuracy: 0.5288\n",
      "Epoch 2/100\n",
      "625/625 [==============================] - 30s 47ms/step - loss: 0.6784 - accuracy: 0.5673 - val_loss: 0.6643 - val_accuracy: 0.6050\n",
      "Epoch 3/100\n",
      "625/625 [==============================] - 30s 47ms/step - loss: 0.6476 - accuracy: 0.6395 - val_loss: 0.6380 - val_accuracy: 0.6502\n",
      "Epoch 4/100\n",
      "625/625 [==============================] - 29s 47ms/step - loss: 0.6174 - accuracy: 0.6863 - val_loss: 0.6075 - val_accuracy: 0.7026\n",
      "Epoch 5/100\n",
      "625/625 [==============================] - 29s 47ms/step - loss: 0.5847 - accuracy: 0.7240 - val_loss: 0.5795 - val_accuracy: 0.7192\n",
      "Epoch 6/100\n",
      "625/625 [==============================] - 29s 47ms/step - loss: 0.5596 - accuracy: 0.7460 - val_loss: 0.5558 - val_accuracy: 0.7436\n",
      "Epoch 7/100\n",
      "625/625 [==============================] - 29s 47ms/step - loss: 0.5374 - accuracy: 0.7598 - val_loss: 0.5388 - val_accuracy: 0.7502\n",
      "Epoch 8/100\n",
      "625/625 [==============================] - 29s 47ms/step - loss: 0.5180 - accuracy: 0.7712 - val_loss: 0.5211 - val_accuracy: 0.7630\n",
      "Epoch 9/100\n",
      "625/625 [==============================] - 29s 47ms/step - loss: 0.5018 - accuracy: 0.7786 - val_loss: 0.5084 - val_accuracy: 0.7654\n",
      "Epoch 10/100\n",
      "625/625 [==============================] - 29s 47ms/step - loss: 0.4875 - accuracy: 0.7850 - val_loss: 0.4961 - val_accuracy: 0.7696\n",
      "Epoch 11/100\n",
      "625/625 [==============================] - 29s 47ms/step - loss: 0.4766 - accuracy: 0.7890 - val_loss: 0.4853 - val_accuracy: 0.7822\n",
      "Epoch 12/100\n",
      "625/625 [==============================] - 29s 47ms/step - loss: 0.4668 - accuracy: 0.7954 - val_loss: 0.4768 - val_accuracy: 0.7818\n",
      "Epoch 13/100\n",
      "625/625 [==============================] - 29s 47ms/step - loss: 0.4581 - accuracy: 0.7984 - val_loss: 0.4713 - val_accuracy: 0.7844\n",
      "Epoch 14/100\n",
      "625/625 [==============================] - 29s 47ms/step - loss: 0.4512 - accuracy: 0.8020 - val_loss: 0.4709 - val_accuracy: 0.7850\n",
      "Epoch 15/100\n",
      "625/625 [==============================] - 30s 47ms/step - loss: 0.4452 - accuracy: 0.8038 - val_loss: 0.4664 - val_accuracy: 0.7828\n",
      "Epoch 16/100\n",
      "625/625 [==============================] - 29s 47ms/step - loss: 0.4401 - accuracy: 0.8076 - val_loss: 0.4587 - val_accuracy: 0.7902\n",
      "Epoch 17/100\n",
      "625/625 [==============================] - 29s 47ms/step - loss: 0.4363 - accuracy: 0.8087 - val_loss: 0.4574 - val_accuracy: 0.7878\n",
      "Epoch 18/100\n",
      "625/625 [==============================] - 29s 47ms/step - loss: 0.4317 - accuracy: 0.8107 - val_loss: 0.4550 - val_accuracy: 0.7912\n",
      "Epoch 19/100\n",
      "625/625 [==============================] - 29s 47ms/step - loss: 0.4288 - accuracy: 0.8099 - val_loss: 0.4551 - val_accuracy: 0.7886\n",
      "Epoch 20/100\n",
      "625/625 [==============================] - 30s 47ms/step - loss: 0.4258 - accuracy: 0.8120 - val_loss: 0.4547 - val_accuracy: 0.7884\n",
      "Epoch 21/100\n",
      "625/625 [==============================] - 29s 47ms/step - loss: 0.4233 - accuracy: 0.8118 - val_loss: 0.4493 - val_accuracy: 0.7948\n",
      "Epoch 22/100\n",
      "625/625 [==============================] - 29s 47ms/step - loss: 0.4203 - accuracy: 0.8151 - val_loss: 0.4489 - val_accuracy: 0.7944\n",
      "Epoch 23/100\n",
      "625/625 [==============================] - 29s 47ms/step - loss: 0.4188 - accuracy: 0.8148 - val_loss: 0.4482 - val_accuracy: 0.7936\n",
      "Epoch 24/100\n",
      "625/625 [==============================] - 29s 47ms/step - loss: 0.4170 - accuracy: 0.8151 - val_loss: 0.4492 - val_accuracy: 0.7926\n",
      "Epoch 25/100\n",
      "625/625 [==============================] - 29s 47ms/step - loss: 0.4148 - accuracy: 0.8166 - val_loss: 0.4505 - val_accuracy: 0.7936\n",
      "Epoch 26/100\n",
      "625/625 [==============================] - 29s 47ms/step - loss: 0.4133 - accuracy: 0.8167 - val_loss: 0.4466 - val_accuracy: 0.7948\n",
      "Epoch 27/100\n",
      "625/625 [==============================] - 29s 47ms/step - loss: 0.4116 - accuracy: 0.8181 - val_loss: 0.4498 - val_accuracy: 0.7922\n",
      "Epoch 28/100\n",
      "625/625 [==============================] - 29s 47ms/step - loss: 0.4101 - accuracy: 0.8181 - val_loss: 0.4474 - val_accuracy: 0.7936\n",
      "Epoch 29/100\n",
      "625/625 [==============================] - 29s 47ms/step - loss: 0.4090 - accuracy: 0.8189 - val_loss: 0.4461 - val_accuracy: 0.7956\n",
      "Epoch 30/100\n",
      "625/625 [==============================] - 29s 47ms/step - loss: 0.4072 - accuracy: 0.8203 - val_loss: 0.4466 - val_accuracy: 0.7948\n",
      "Epoch 31/100\n",
      "625/625 [==============================] - 29s 47ms/step - loss: 0.4059 - accuracy: 0.8206 - val_loss: 0.4476 - val_accuracy: 0.7922\n",
      "Epoch 32/100\n",
      "625/625 [==============================] - 29s 47ms/step - loss: 0.4045 - accuracy: 0.8238 - val_loss: 0.4457 - val_accuracy: 0.7934\n",
      "Epoch 33/100\n",
      "625/625 [==============================] - 29s 47ms/step - loss: 0.4031 - accuracy: 0.8216 - val_loss: 0.4462 - val_accuracy: 0.7930\n",
      "Epoch 34/100\n",
      "625/625 [==============================] - 29s 47ms/step - loss: 0.4018 - accuracy: 0.8230 - val_loss: 0.4525 - val_accuracy: 0.7924\n",
      "Epoch 35/100\n",
      "625/625 [==============================] - 30s 47ms/step - loss: 0.4002 - accuracy: 0.8232 - val_loss: 0.4453 - val_accuracy: 0.7930\n",
      "Epoch 36/100\n",
      "625/625 [==============================] - 29s 47ms/step - loss: 0.3994 - accuracy: 0.8241 - val_loss: 0.4478 - val_accuracy: 0.7932\n",
      "Epoch 37/100\n",
      "625/625 [==============================] - 29s 47ms/step - loss: 0.3978 - accuracy: 0.8258 - val_loss: 0.4464 - val_accuracy: 0.7944\n",
      "Epoch 38/100\n",
      "625/625 [==============================] - 30s 47ms/step - loss: 0.3968 - accuracy: 0.8260 - val_loss: 0.4521 - val_accuracy: 0.7922\n"
     ]
    }
   ],
   "source": [
    "rmsprop = keras.optimizers.RMSprop(learning_rate=1e-4)\n",
    "model.compile(optimizer=rmsprop, loss='binary_crossentropy', metrics=['accuracy'])\n",
    "\n",
    "checkpoint_cb = keras.callbacks.ModelCheckpoint('best-simplernn-model.h5')\n",
    "early_stopping_cb = keras.callbacks.EarlyStopping(patience=3,\n",
    "                                                  restore_best_weights=True)\n",
    "\n",
    "history = model.fit(train_oh, train_target, epochs=100,\n",
    "                    validation_data=(val_oh, val_target),\n",
    "                    callbacks=[checkpoint_cb, early_stopping_cb])"
   ]
  },
  {
   "cell_type": "code",
   "execution_count": 25,
   "metadata": {
    "execution": {
     "iopub.execute_input": "2020-10-11T10:21:38.793545Z",
     "iopub.status.busy": "2020-10-11T10:21:38.791901Z",
     "iopub.status.idle": "2020-10-11T10:21:39.413023Z",
     "shell.execute_reply": "2020-10-11T10:21:39.411528Z"
    }
   },
   "outputs": [
    {
     "data": {
      "image/png": "[encoded data removed]",
      "text/plain": [
       "<Figure size 432x288 with 1 Axes>"
      ]
     },
     "metadata": {
      "needs_background": "light"
     },
     "output_type": "display_data"
    }
   ],
   "source": [
    "plt.plot(history.history['loss'])\n",
    "plt.plot(history.history['val_loss'])\n",
    "plt.xlabel('epoch')\n",
    "plt.ylabel('loss')\n",
    "plt.legend(['train', 'val'])\n",
    "plt.show()"
   ]
  },
  {
   "cell_type": "markdown",
   "metadata": {},
   "source": [
    "## 단어 임베딩을 사용하기"
   ]
  },
  {
   "cell_type": "code",
   "execution_count": 26,
   "metadata": {
    "execution": {
     "iopub.execute_input": "2020-10-11T10:21:39.429034Z",
     "iopub.status.busy": "2020-10-11T10:21:39.428037Z",
     "iopub.status.idle": "2020-10-11T10:21:39.528308Z",
     "shell.execute_reply": "2020-10-11T10:21:39.529485Z"
    }
   },
   "outputs": [
    {
     "name": "stdout",
     "output_type": "stream",
     "text": [
      "Model: \"sequential_1\"\n",
      "_________________________________________________________________\n",
      "Layer (type)                 Output Shape              Param #   \n",
      "=================================================================\n",
      "embedding (Embedding)        (None, None, 8)           4000      \n",
      "_________________________________________________________________\n",
      "simple_rnn_1 (SimpleRNN)     (None, 8)                 136       \n",
      "_________________________________________________________________\n",
      "dense_1 (Dense)              (None, 1)                 9         \n",
      "=================================================================\n",
      "Total params: 4,145\n",
      "Trainable params: 4,145\n",
      "Non-trainable params: 0\n",
      "_________________________________________________________________\n"
     ]
    }
   ],
   "source": [
    "model2 = keras.Sequential()\n",
    "\n",
    "model2.add(keras.layers.Embedding(500, 8))\n",
    "model2.add(keras.layers.SimpleRNN(8))\n",
    "model2.add(keras.layers.Dense(1, activation='sigmoid'))\n",
    "\n",
    "model2.summary()"
   ]
  },
  {
   "cell_type": "code",
   "execution_count": 27,
   "metadata": {
    "execution": {
     "iopub.execute_input": "2020-10-11T10:21:39.551264Z",
     "iopub.status.busy": "2020-10-11T10:21:39.549810Z",
     "iopub.status.idle": "2020-10-11T10:32:08.406458Z",
     "shell.execute_reply": "2020-10-11T10:32:08.407857Z"
    }
   },
   "outputs": [
    {
     "name": "stdout",
     "output_type": "stream",
     "text": [
      "Epoch 1/100\n",
      "625/625 [==============================] - 31s 50ms/step - loss: 0.6906 - accuracy: 0.5304 - val_loss: 0.6750 - val_accuracy: 0.6026\n",
      "Epoch 2/100\n",
      "625/625 [==============================] - 31s 50ms/step - loss: 0.6574 - accuracy: 0.6405 - val_loss: 0.6420 - val_accuracy: 0.6726\n",
      "Epoch 3/100\n",
      "625/625 [==============================] - 31s 50ms/step - loss: 0.6219 - accuracy: 0.6957 - val_loss: 0.6085 - val_accuracy: 0.7010\n",
      "Epoch 4/100\n",
      "625/625 [==============================] - 32s 50ms/step - loss: 0.5880 - accuracy: 0.7270 - val_loss: 0.5778 - val_accuracy: 0.7296\n",
      "Epoch 5/100\n",
      "625/625 [==============================] - 31s 50ms/step - loss: 0.5570 - accuracy: 0.7471 - val_loss: 0.5532 - val_accuracy: 0.7598\n",
      "Epoch 6/100\n",
      "625/625 [==============================] - 31s 50ms/step - loss: 0.5308 - accuracy: 0.7659 - val_loss: 0.5294 - val_accuracy: 0.7560\n",
      "Epoch 7/100\n",
      "625/625 [==============================] - 31s 50ms/step - loss: 0.5076 - accuracy: 0.7776 - val_loss: 0.5099 - val_accuracy: 0.7718\n",
      "Epoch 8/100\n",
      "625/625 [==============================] - 31s 50ms/step - loss: 0.4886 - accuracy: 0.7872 - val_loss: 0.4986 - val_accuracy: 0.7708\n",
      "Epoch 9/100\n",
      "625/625 [==============================] - 31s 50ms/step - loss: 0.4732 - accuracy: 0.7946 - val_loss: 0.4874 - val_accuracy: 0.7754\n",
      "Epoch 10/100\n",
      "625/625 [==============================] - 31s 50ms/step - loss: 0.4616 - accuracy: 0.7990 - val_loss: 0.4755 - val_accuracy: 0.7836\n",
      "Epoch 11/100\n",
      "625/625 [==============================] - 31s 50ms/step - loss: 0.4527 - accuracy: 0.8019 - val_loss: 0.4693 - val_accuracy: 0.7882\n",
      "Epoch 12/100\n",
      "625/625 [==============================] - 31s 50ms/step - loss: 0.4443 - accuracy: 0.8058 - val_loss: 0.4671 - val_accuracy: 0.7904\n",
      "Epoch 13/100\n",
      "625/625 [==============================] - 31s 50ms/step - loss: 0.4380 - accuracy: 0.8092 - val_loss: 0.4618 - val_accuracy: 0.7910\n",
      "Epoch 14/100\n",
      "625/625 [==============================] - 31s 50ms/step - loss: 0.4322 - accuracy: 0.8113 - val_loss: 0.4627 - val_accuracy: 0.7920\n",
      "Epoch 15/100\n",
      "625/625 [==============================] - 31s 50ms/step - loss: 0.4276 - accuracy: 0.8126 - val_loss: 0.4573 - val_accuracy: 0.7904\n",
      "Epoch 16/100\n",
      "625/625 [==============================] - 31s 50ms/step - loss: 0.4243 - accuracy: 0.8130 - val_loss: 0.4592 - val_accuracy: 0.7900\n",
      "Epoch 17/100\n",
      "625/625 [==============================] - 31s 50ms/step - loss: 0.4203 - accuracy: 0.8152 - val_loss: 0.4544 - val_accuracy: 0.7910\n",
      "Epoch 18/100\n",
      "625/625 [==============================] - 32s 50ms/step - loss: 0.4169 - accuracy: 0.8177 - val_loss: 0.4588 - val_accuracy: 0.7870\n",
      "Epoch 19/100\n",
      "625/625 [==============================] - 31s 50ms/step - loss: 0.4147 - accuracy: 0.8169 - val_loss: 0.4716 - val_accuracy: 0.7816\n",
      "Epoch 20/100\n",
      "625/625 [==============================] - 31s 50ms/step - loss: 0.4127 - accuracy: 0.8195 - val_loss: 0.4555 - val_accuracy: 0.7926\n"
     ]
    }
   ],
   "source": [
    "rmsprop = keras.optimizers.RMSprop(learning_rate=1e-4)\n",
    "model2.compile(optimizer=rmsprop, loss='binary_crossentropy', metrics=['accuracy'])\n",
    "\n",
    "checkpoint_cb = keras.callbacks.ModelCheckpoint('best-embedding-model.h5')\n",
    "early_stopping_cb = keras.callbacks.EarlyStopping(patience=3,\n",
    "                                                  restore_best_weights=True)\n",
    "\n",
    "history = model2.fit(train_seq, train_target, epochs=100,\n",
    "                     validation_data=(val_seq, val_target),\n",
    "                     callbacks=[checkpoint_cb, early_stopping_cb])"
   ]
  },
  {
   "cell_type": "code",
   "execution_count": 28,
   "metadata": {
    "execution": {
     "iopub.execute_input": "2020-10-11T10:32:08.436809Z",
     "iopub.status.busy": "2020-10-11T10:32:08.435637Z",
     "iopub.status.idle": "2020-10-11T10:32:09.061948Z",
     "shell.execute_reply": "2020-10-11T10:32:09.063434Z"
    }
   },
   "outputs": [
    {
     "data": {
      "image/png": "[encoded data removed]",
      "text/plain": [
       "<Figure size 432x288 with 1 Axes>"
      ]
     },
     "metadata": {
      "needs_background": "light"
     },
     "output_type": "display_data"
    }
   ],
   "source": [
    "plt.plot(history.history['loss'])\n",
    "plt.plot(history.history['val_loss'])\n",
    "plt.xlabel('epoch')\n",
    "plt.ylabel('loss')\n",
    "plt.legend(['train', 'val'])\n",
    "plt.show()"
   ]
  }
 ],
 "metadata": {
  "kernelspec": {
   "display_name": "TensorFlow 2.3 on Python 3.6 (CUDA 10.1)",
   "language": "python",
   "name": "python3"
  },
  "language_info": {
   "codemirror_mode": {
    "name": "ipython",
    "version": 3
   },
   "file_extension": ".py",
   "mimetype": "text/x-python",
   "name": "python",
   "nbconvert_exporter": "python",
   "pygments_lexer": "ipython3",
   "version": "3.6.9"
  }
 },
 "nbformat": 4,
 "nbformat_minor": 4
}
