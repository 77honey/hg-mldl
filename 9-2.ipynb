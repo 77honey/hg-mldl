{
  "nbformat": 4,
  "nbformat_minor": 0,
  "metadata": {
    "kernelspec": {
      "display_name": "TensorFlow 2.3 on Python 3.6 (CUDA 10.1)",
      "language": "python",
      "name": "python3"
    },
    "language_info": {
      "codemirror_mode": {
        "name": "ipython",
        "version": 3
      },
      "file_extension": ".py",
      "mimetype": "text/x-python",
      "name": "python",
      "nbconvert_exporter": "python",
      "pygments_lexer": "ipython3",
      "version": "3.6.9"
    },
    "colab": {
      "name": "9-2.ipynb",
      "provenance": []
    },
    "accelerator": "GPU"
  },
  "cells": [
    {
      "cell_type": "markdown",
      "metadata": {
        "id": "MusV5YYT6kQF"
      },
      "source": [
        "# 순환 신경망으로 IMDB 리뷰 분류하기"
      ]
    },
    {
      "cell_type": "markdown",
      "metadata": {
        "id": "9uYfRb5-6kQQ"
      },
      "source": [
        "<table align=\"left\">\n",
        "  <td>\n",
        "    <a target=\"_blank\" href=\"https://colab.research.google.com/github/rickiepark/hg-mldl/blob/master/9-2.ipynb\"><img src=\"https://www.tensorflow.org/images/colab_logo_32px.png\" />구글 코랩에서 실행하기</a>\n",
        "  </td>\n",
        "</table>"
      ]
    },
    {
      "cell_type": "markdown",
      "metadata": {
        "id": "S1A-DDIQ6kQQ"
      },
      "source": [
        "## IMDB 리뷰 데이터셋"
      ]
    },
    {
      "cell_type": "code",
      "metadata": {
        "execution": {
          "iopub.execute_input": "2020-10-12T01:18:41.979392Z",
          "iopub.status.busy": "2020-10-12T01:18:41.978299Z",
          "iopub.status.idle": "2020-10-12T01:18:52.473300Z",
          "shell.execute_reply": "2020-10-12T01:18:52.471703Z"
        },
        "id": "sZoZm1ZO6kQR",
        "colab": {
          "base_uri": "https://localhost:8080/"
        },
        "outputId": "643476d3-9eac-4ea0-dfb5-214a5d7736ca"
      },
      "source": [
        "from tensorflow.keras.datasets import imdb\n",
        "\n",
        "(train_input, train_target), (test_input, test_target) = imdb.load_data(\n",
        "    num_words=500)"
      ],
      "execution_count": null,
      "outputs": [
        {
          "output_type": "stream",
          "text": [
            "Downloading data from https://storage.googleapis.com/tensorflow/tf-keras-datasets/imdb.npz\n",
            "17465344/17464789 [==============================] - 0s 0us/step\n"
          ],
          "name": "stdout"
        },
        {
          "output_type": "stream",
          "text": [
            "<string>:6: VisibleDeprecationWarning: Creating an ndarray from ragged nested sequences (which is a list-or-tuple of lists-or-tuples-or ndarrays with different lengths or shapes) is deprecated. If you meant to do this, you must specify 'dtype=object' when creating the ndarray\n",
            "/usr/local/lib/python3.6/dist-packages/tensorflow/python/keras/datasets/imdb.py:159: VisibleDeprecationWarning: Creating an ndarray from ragged nested sequences (which is a list-or-tuple of lists-or-tuples-or ndarrays with different lengths or shapes) is deprecated. If you meant to do this, you must specify 'dtype=object' when creating the ndarray\n",
            "  x_train, y_train = np.array(xs[:idx]), np.array(labels[:idx])\n",
            "/usr/local/lib/python3.6/dist-packages/tensorflow/python/keras/datasets/imdb.py:160: VisibleDeprecationWarning: Creating an ndarray from ragged nested sequences (which is a list-or-tuple of lists-or-tuples-or ndarrays with different lengths or shapes) is deprecated. If you meant to do this, you must specify 'dtype=object' when creating the ndarray\n",
            "  x_test, y_test = np.array(xs[idx:]), np.array(labels[idx:])\n"
          ],
          "name": "stderr"
        }
      ]
    },
    {
      "cell_type": "code",
      "metadata": {
        "execution": {
          "iopub.execute_input": "2020-10-12T01:18:52.481400Z",
          "iopub.status.busy": "2020-10-12T01:18:52.479645Z",
          "iopub.status.idle": "2020-10-12T01:18:52.485658Z",
          "shell.execute_reply": "2020-10-12T01:18:52.486465Z"
        },
        "id": "HTFjz6k06kQR",
        "colab": {
          "base_uri": "https://localhost:8080/"
        },
        "outputId": "cee475fe-66ba-4e16-e334-c72544c0e4fb"
      },
      "source": [
        "print(train_input.shape, test_input.shape)"
      ],
      "execution_count": null,
      "outputs": [
        {
          "output_type": "stream",
          "text": [
            "(25000,) (25000,)\n"
          ],
          "name": "stdout"
        }
      ]
    },
    {
      "cell_type": "code",
      "metadata": {
        "execution": {
          "iopub.execute_input": "2020-10-12T01:18:52.493608Z",
          "iopub.status.busy": "2020-10-12T01:18:52.492625Z",
          "iopub.status.idle": "2020-10-12T01:18:52.496804Z",
          "shell.execute_reply": "2020-10-12T01:18:52.497722Z"
        },
        "id": "4jMLURzw6kQS",
        "colab": {
          "base_uri": "https://localhost:8080/"
        },
        "outputId": "5d3fb6ee-8e02-4bd6-ea2f-2f3888cf8070"
      },
      "source": [
        "print(len(train_input[0]))"
      ],
      "execution_count": null,
      "outputs": [
        {
          "output_type": "stream",
          "text": [
            "218\n"
          ],
          "name": "stdout"
        }
      ]
    },
    {
      "cell_type": "code",
      "metadata": {
        "execution": {
          "iopub.execute_input": "2020-10-12T01:18:52.504933Z",
          "iopub.status.busy": "2020-10-12T01:18:52.503811Z",
          "iopub.status.idle": "2020-10-12T01:18:52.508252Z",
          "shell.execute_reply": "2020-10-12T01:18:52.509172Z"
        },
        "id": "xdO834PL6kQT",
        "colab": {
          "base_uri": "https://localhost:8080/"
        },
        "outputId": "1f4166af-37db-4fd9-ae40-f165f41f61ad"
      },
      "source": [
        "print(len(train_input[1]))"
      ],
      "execution_count": null,
      "outputs": [
        {
          "output_type": "stream",
          "text": [
            "189\n"
          ],
          "name": "stdout"
        }
      ]
    },
    {
      "cell_type": "code",
      "metadata": {
        "execution": {
          "iopub.execute_input": "2020-10-12T01:18:52.516102Z",
          "iopub.status.busy": "2020-10-12T01:18:52.515014Z",
          "iopub.status.idle": "2020-10-12T01:18:52.520096Z",
          "shell.execute_reply": "2020-10-12T01:18:52.520972Z"
        },
        "id": "QNuzGQ2c6kQT",
        "colab": {
          "base_uri": "https://localhost:8080/"
        },
        "outputId": "4ac80827-f71f-4a79-ba1a-23b53f0a8aa4"
      },
      "source": [
        "print(train_input[0])"
      ],
      "execution_count": null,
      "outputs": [
        {
          "output_type": "stream",
          "text": [
            "[1, 14, 22, 16, 43, 2, 2, 2, 2, 65, 458, 2, 66, 2, 4, 173, 36, 256, 5, 25, 100, 43, 2, 112, 50, 2, 2, 9, 35, 480, 284, 5, 150, 4, 172, 112, 167, 2, 336, 385, 39, 4, 172, 2, 2, 17, 2, 38, 13, 447, 4, 192, 50, 16, 6, 147, 2, 19, 14, 22, 4, 2, 2, 469, 4, 22, 71, 87, 12, 16, 43, 2, 38, 76, 15, 13, 2, 4, 22, 17, 2, 17, 12, 16, 2, 18, 2, 5, 62, 386, 12, 8, 316, 8, 106, 5, 4, 2, 2, 16, 480, 66, 2, 33, 4, 130, 12, 16, 38, 2, 5, 25, 124, 51, 36, 135, 48, 25, 2, 33, 6, 22, 12, 215, 28, 77, 52, 5, 14, 407, 16, 82, 2, 8, 4, 107, 117, 2, 15, 256, 4, 2, 7, 2, 5, 2, 36, 71, 43, 2, 476, 26, 400, 317, 46, 7, 4, 2, 2, 13, 104, 88, 4, 381, 15, 297, 98, 32, 2, 56, 26, 141, 6, 194, 2, 18, 4, 226, 22, 21, 134, 476, 26, 480, 5, 144, 30, 2, 18, 51, 36, 28, 224, 92, 25, 104, 4, 226, 65, 16, 38, 2, 88, 12, 16, 283, 5, 16, 2, 113, 103, 32, 15, 16, 2, 19, 178, 32]\n"
          ],
          "name": "stdout"
        }
      ]
    },
    {
      "cell_type": "code",
      "metadata": {
        "execution": {
          "iopub.execute_input": "2020-10-12T01:18:52.528598Z",
          "iopub.status.busy": "2020-10-12T01:18:52.527510Z",
          "iopub.status.idle": "2020-10-12T01:18:52.532011Z",
          "shell.execute_reply": "2020-10-12T01:18:52.532936Z"
        },
        "id": "In8Qzltz6kQT",
        "colab": {
          "base_uri": "https://localhost:8080/"
        },
        "outputId": "1d0088c3-f1dc-4ddd-db0d-53e4d3a938b8"
      },
      "source": [
        "print(train_target[:20])"
      ],
      "execution_count": null,
      "outputs": [
        {
          "output_type": "stream",
          "text": [
            "[1 0 0 1 0 0 1 0 1 0 1 0 0 0 0 0 1 1 0 1]\n"
          ],
          "name": "stdout"
        }
      ]
    },
    {
      "cell_type": "code",
      "metadata": {
        "execution": {
          "iopub.execute_input": "2020-10-12T01:18:52.541031Z",
          "iopub.status.busy": "2020-10-12T01:18:52.539873Z",
          "iopub.status.idle": "2020-10-12T01:18:52.812559Z",
          "shell.execute_reply": "2020-10-12T01:18:52.810985Z"
        },
        "id": "0-zjNgBw6kQU"
      },
      "source": [
        "from sklearn.model_selection import train_test_split\n",
        "\n",
        "train_input, val_input, train_target, val_target = train_test_split(\n",
        "    train_input, train_target, test_size=0.2, random_state=42)"
      ],
      "execution_count": null,
      "outputs": []
    },
    {
      "cell_type": "code",
      "metadata": {
        "execution": {
          "iopub.execute_input": "2020-10-12T01:18:52.833360Z",
          "iopub.status.busy": "2020-10-12T01:18:52.831841Z",
          "iopub.status.idle": "2020-10-12T01:18:52.834920Z",
          "shell.execute_reply": "2020-10-12T01:18:52.836117Z"
        },
        "id": "sRVvgntx6kQU"
      },
      "source": [
        "import numpy as np\n",
        "\n",
        "lengths = np.array([len(x) for x in train_input])"
      ],
      "execution_count": null,
      "outputs": []
    },
    {
      "cell_type": "code",
      "metadata": {
        "execution": {
          "iopub.execute_input": "2020-10-12T01:18:52.843759Z",
          "iopub.status.busy": "2020-10-12T01:18:52.842297Z",
          "iopub.status.idle": "2020-10-12T01:18:52.847506Z",
          "shell.execute_reply": "2020-10-12T01:18:52.848361Z"
        },
        "id": "p76m_61w6kQU",
        "colab": {
          "base_uri": "https://localhost:8080/"
        },
        "outputId": "2c12ea41-02ac-4f24-c2fd-5d22bac3ab0d"
      },
      "source": [
        "print(np.mean(lengths), np.median(lengths))"
      ],
      "execution_count": null,
      "outputs": [
        {
          "output_type": "stream",
          "text": [
            "239.00925 178.0\n"
          ],
          "name": "stdout"
        }
      ]
    },
    {
      "cell_type": "code",
      "metadata": {
        "execution": {
          "iopub.execute_input": "2020-10-12T01:18:52.874891Z",
          "iopub.status.busy": "2020-10-12T01:18:52.873857Z",
          "iopub.status.idle": "2020-10-12T01:18:53.042560Z",
          "shell.execute_reply": "2020-10-12T01:18:53.040898Z"
        },
        "id": "TVDrsRYF6kQV",
        "colab": {
          "base_uri": "https://localhost:8080/",
          "height": 300
        },
        "outputId": "eee26781-99cf-4904-8bd9-c6e7910a9fad"
      },
      "source": [
        "import matplotlib.pyplot as plt\n",
        "\n",
        "plt.hist(lengths)\n",
        "plt.xlabel('length')\n",
        "plt.ylabel('frequency')\n",
        "plt.show()"
      ],
      "execution_count": null,
      "outputs": [
        {
          "output_type": "display_data",
          "data": {
            "image/png": "[encoded data removed]",
            "text/plain": [
              "<Figure size 432x288 with 1 Axes>"
            ]
          },
          "metadata": {
            "tags": [],
            "needs_background": "light"
          }
        }
      ]
    },
    {
      "cell_type": "code",
      "metadata": {
        "execution": {
          "iopub.execute_input": "2020-10-12T01:18:53.056410Z",
          "iopub.status.busy": "2020-10-12T01:18:53.054676Z",
          "iopub.status.idle": "2020-10-12T01:18:53.509881Z",
          "shell.execute_reply": "2020-10-12T01:18:53.507938Z"
        },
        "id": "fbLSFToP6kQV"
      },
      "source": [
        "from tensorflow.keras.preprocessing.sequence import pad_sequences\n",
        "\n",
        "train_seq = pad_sequences(train_input, maxlen=100)"
      ],
      "execution_count": null,
      "outputs": []
    },
    {
      "cell_type": "code",
      "metadata": {
        "execution": {
          "iopub.execute_input": "2020-10-12T01:18:53.516113Z",
          "iopub.status.busy": "2020-10-12T01:18:53.514858Z",
          "iopub.status.idle": "2020-10-12T01:18:53.519062Z",
          "shell.execute_reply": "2020-10-12T01:18:53.520171Z"
        },
        "id": "3c86x0Yj6kQV",
        "colab": {
          "base_uri": "https://localhost:8080/"
        },
        "outputId": "82ae34ff-63b4-4c7c-a75d-5d56370ffa06"
      },
      "source": [
        "print(train_seq.shape)"
      ],
      "execution_count": null,
      "outputs": [
        {
          "output_type": "stream",
          "text": [
            "(20000, 100)\n"
          ],
          "name": "stdout"
        }
      ]
    },
    {
      "cell_type": "code",
      "metadata": {
        "execution": {
          "iopub.execute_input": "2020-10-12T01:18:53.529088Z",
          "iopub.status.busy": "2020-10-12T01:18:53.527775Z",
          "iopub.status.idle": "2020-10-12T01:18:53.532885Z",
          "shell.execute_reply": "2020-10-12T01:18:53.533957Z"
        },
        "id": "JuP0QJaU6kQW",
        "colab": {
          "base_uri": "https://localhost:8080/"
        },
        "outputId": "0c958cb2-b129-4146-dad9-0afbe938446c"
      },
      "source": [
        "print(train_seq[0])"
      ],
      "execution_count": null,
      "outputs": [
        {
          "output_type": "stream",
          "text": [
            "[ 10   4  20   9   2 364 352   5  45   6   2   2  33 269   8   2 142   2\n",
            "   5   2  17  73  17 204   5   2  19  55   2   2  92  66 104  14  20  93\n",
            "  76   2 151  33   4  58  12 188   2 151  12 215  69 224 142  73 237   6\n",
            "   2   7   2   2 188   2 103  14  31  10  10 451   7   2   5   2  80  91\n",
            "   2  30   2  34  14  20 151  50  26 131  49   2  84  46  50  37  80  79\n",
            "   6   2  46   7  14  20  10  10 470 158]\n"
          ],
          "name": "stdout"
        }
      ]
    },
    {
      "cell_type": "code",
      "metadata": {
        "execution": {
          "iopub.execute_input": "2020-10-12T01:18:53.541335Z",
          "iopub.status.busy": "2020-10-12T01:18:53.540161Z",
          "iopub.status.idle": "2020-10-12T01:18:53.544735Z",
          "shell.execute_reply": "2020-10-12T01:18:53.545765Z"
        },
        "id": "6t8kaDji6kQW",
        "colab": {
          "base_uri": "https://localhost:8080/"
        },
        "outputId": "b67cf0c7-f438-4005-8223-9de29d0b77e8"
      },
      "source": [
        "print(train_input[0][-10:])"
      ],
      "execution_count": null,
      "outputs": [
        {
          "output_type": "stream",
          "text": [
            "[6, 2, 46, 7, 14, 20, 10, 10, 470, 158]\n"
          ],
          "name": "stdout"
        }
      ]
    },
    {
      "cell_type": "code",
      "metadata": {
        "execution": {
          "iopub.execute_input": "2020-10-12T01:18:53.553993Z",
          "iopub.status.busy": "2020-10-12T01:18:53.552689Z",
          "iopub.status.idle": "2020-10-12T01:18:53.557009Z",
          "shell.execute_reply": "2020-10-12T01:18:53.558118Z"
        },
        "scrolled": true,
        "id": "Emmoztwa6kQX",
        "colab": {
          "base_uri": "https://localhost:8080/"
        },
        "outputId": "d5d99c0f-554a-4ddf-faf0-63cf7df8c2c3"
      },
      "source": [
        "print(train_seq[5])"
      ],
      "execution_count": null,
      "outputs": [
        {
          "output_type": "stream",
          "text": [
            "[  0   0   0   0   1   2 195  19  49   2   2 190   4   2 352   2 183  10\n",
            "  10  13  82  79   4   2  36  71 269   8   2  25  19  49   7   4   2   2\n",
            "   2   2   2  10  10  48  25  40   2  11   2   2  40   2   2   5   4   2\n",
            "   2  95  14 238  56 129   2  10  10  21   2  94 364 352   2   2  11 190\n",
            "  24 484   2   7  94 205 405  10  10  87   2  34  49   2   7   2   2   2\n",
            "   2   2 290   2  46  48  64  18   4   2]\n"
          ],
          "name": "stdout"
        }
      ]
    },
    {
      "cell_type": "code",
      "metadata": {
        "execution": {
          "iopub.execute_input": "2020-10-12T01:18:53.568279Z",
          "iopub.status.busy": "2020-10-12T01:18:53.566949Z",
          "iopub.status.idle": "2020-10-12T01:18:53.688571Z",
          "shell.execute_reply": "2020-10-12T01:18:53.687412Z"
        },
        "id": "ZeFmsjOd6kQX"
      },
      "source": [
        "val_seq = pad_sequences(val_input, maxlen=100)"
      ],
      "execution_count": null,
      "outputs": []
    },
    {
      "cell_type": "markdown",
      "metadata": {
        "id": "9xab0nu_6kQX"
      },
      "source": [
        "## 순환 신경망 만들기"
      ]
    },
    {
      "cell_type": "code",
      "metadata": {
        "execution": {
          "iopub.execute_input": "2020-10-12T01:18:53.702727Z",
          "iopub.status.busy": "2020-10-12T01:18:53.694374Z",
          "iopub.status.idle": "2020-10-12T01:18:55.997285Z",
          "shell.execute_reply": "2020-10-12T01:18:55.995617Z"
        },
        "id": "45BtHGKX6kQX"
      },
      "source": [
        "from tensorflow import keras\n",
        "\n",
        "model = keras.Sequential()\n",
        "\n",
        "model.add(keras.layers.SimpleRNN(8, input_shape=(100, 500)))\n",
        "model.add(keras.layers.Dense(1, activation='sigmoid'))"
      ],
      "execution_count": null,
      "outputs": []
    },
    {
      "cell_type": "code",
      "metadata": {
        "execution": {
          "iopub.execute_input": "2020-10-12T01:18:56.004523Z",
          "iopub.status.busy": "2020-10-12T01:18:56.002786Z",
          "iopub.status.idle": "2020-10-12T01:18:57.766487Z",
          "shell.execute_reply": "2020-10-12T01:18:57.764928Z"
        },
        "id": "oXIWyOuw6kQY"
      },
      "source": [
        "train_oh = keras.utils.to_categorical(train_seq)"
      ],
      "execution_count": null,
      "outputs": []
    },
    {
      "cell_type": "code",
      "metadata": {
        "execution": {
          "iopub.execute_input": "2020-10-12T01:18:57.774226Z",
          "iopub.status.busy": "2020-10-12T01:18:57.772482Z",
          "iopub.status.idle": "2020-10-12T01:18:57.777731Z",
          "shell.execute_reply": "2020-10-12T01:18:57.778538Z"
        },
        "id": "VD94WiRT6kQY",
        "colab": {
          "base_uri": "https://localhost:8080/"
        },
        "outputId": "83a60e70-0d9d-4d79-edb8-bbf946868a40"
      },
      "source": [
        "print(train_oh.shape)"
      ],
      "execution_count": null,
      "outputs": [
        {
          "output_type": "stream",
          "text": [
            "(20000, 100, 500)\n"
          ],
          "name": "stdout"
        }
      ]
    },
    {
      "cell_type": "code",
      "metadata": {
        "execution": {
          "iopub.execute_input": "2020-10-12T01:18:57.786369Z",
          "iopub.status.busy": "2020-10-12T01:18:57.785416Z",
          "iopub.status.idle": "2020-10-12T01:18:57.790217Z",
          "shell.execute_reply": "2020-10-12T01:18:57.791183Z"
        },
        "id": "VIVSHwJg6kQY",
        "colab": {
          "base_uri": "https://localhost:8080/"
        },
        "outputId": "d592517e-f40e-4747-a692-dc38bec7d51a"
      },
      "source": [
        "print(train_oh[0][0][:12])"
      ],
      "execution_count": null,
      "outputs": [
        {
          "output_type": "stream",
          "text": [
            "[0. 0. 0. 0. 0. 0. 0. 0. 0. 0. 1. 0.]\n"
          ],
          "name": "stdout"
        }
      ]
    },
    {
      "cell_type": "code",
      "metadata": {
        "execution": {
          "iopub.execute_input": "2020-10-12T01:18:57.798946Z",
          "iopub.status.busy": "2020-10-12T01:18:57.797788Z",
          "iopub.status.idle": "2020-10-12T01:18:57.802480Z",
          "shell.execute_reply": "2020-10-12T01:18:57.803390Z"
        },
        "id": "CP3ivii46kQZ",
        "colab": {
          "base_uri": "https://localhost:8080/"
        },
        "outputId": "143a3e6c-e6c8-437e-d6bc-3d1b04a3ece4"
      },
      "source": [
        "print(np.sum(train_oh[0][0]))"
      ],
      "execution_count": null,
      "outputs": [
        {
          "output_type": "stream",
          "text": [
            "1.0\n"
          ],
          "name": "stdout"
        }
      ]
    },
    {
      "cell_type": "code",
      "metadata": {
        "execution": {
          "iopub.execute_input": "2020-10-12T01:18:57.810383Z",
          "iopub.status.busy": "2020-10-12T01:18:57.809293Z",
          "iopub.status.idle": "2020-10-12T01:18:58.247989Z",
          "shell.execute_reply": "2020-10-12T01:18:58.248931Z"
        },
        "id": "vgijH6m26kQZ"
      },
      "source": [
        "val_oh = keras.utils.to_categorical(val_seq)"
      ],
      "execution_count": null,
      "outputs": []
    },
    {
      "cell_type": "code",
      "metadata": {
        "execution": {
          "iopub.execute_input": "2020-10-12T01:18:58.256367Z",
          "iopub.status.busy": "2020-10-12T01:18:58.255252Z",
          "iopub.status.idle": "2020-10-12T01:18:58.261986Z",
          "shell.execute_reply": "2020-10-12T01:18:58.262846Z"
        },
        "id": "0V0Svpuf6kQZ",
        "colab": {
          "base_uri": "https://localhost:8080/"
        },
        "outputId": "e0d8bf62-67da-46f9-f811-1281c107cedf"
      },
      "source": [
        "model.summary()"
      ],
      "execution_count": null,
      "outputs": [
        {
          "output_type": "stream",
          "text": [
            "Model: \"sequential\"\n",
            "_________________________________________________________________\n",
            "Layer (type)                 Output Shape              Param #   \n",
            "=================================================================\n",
            "simple_rnn (SimpleRNN)       (None, 8)                 4072      \n",
            "_________________________________________________________________\n",
            "dense (Dense)                (None, 1)                 9         \n",
            "=================================================================\n",
            "Total params: 4,081\n",
            "Trainable params: 4,081\n",
            "Non-trainable params: 0\n",
            "_________________________________________________________________\n"
          ],
          "name": "stdout"
        }
      ]
    },
    {
      "cell_type": "markdown",
      "metadata": {
        "id": "S22Hc-7L6kQZ"
      },
      "source": [
        "## 순환 신경망 훈련하기"
      ]
    },
    {
      "cell_type": "code",
      "metadata": {
        "execution": {
          "iopub.execute_input": "2020-10-12T01:18:58.286672Z",
          "iopub.status.busy": "2020-10-12T01:18:58.285571Z",
          "iopub.status.idle": "2020-10-12T01:30:36.157752Z",
          "shell.execute_reply": "2020-10-12T01:30:36.159280Z"
        },
        "id": "YcwM299t6kQZ",
        "colab": {
          "base_uri": "https://localhost:8080/"
        },
        "outputId": "79760537-d4c3-4b64-eb17-dc4d20bc3b94"
      },
      "source": [
        "rmsprop = keras.optimizers.RMSprop(learning_rate=1e-4)\n",
        "model.compile(optimizer=rmsprop, loss='binary_crossentropy', \n",
        "              metrics=['accuracy'])\n",
        "\n",
        "checkpoint_cb = keras.callbacks.ModelCheckpoint('best-simplernn-model.h5', \n",
        "                                                save_best_only=True)\n",
        "early_stopping_cb = keras.callbacks.EarlyStopping(patience=3,\n",
        "                                                  restore_best_weights=True)\n",
        "\n",
        "history = model.fit(train_oh, train_target, epochs=100, batch_size=64,\n",
        "                    validation_data=(val_oh, val_target),\n",
        "                    callbacks=[checkpoint_cb, early_stopping_cb])"
      ],
      "execution_count": null,
      "outputs": [
        {
          "output_type": "stream",
          "text": [
            "Epoch 1/100\n",
            "313/313 [==============================] - 28s 83ms/step - loss: 0.7010 - accuracy: 0.4886 - val_loss: 0.6974 - val_accuracy: 0.4986\n",
            "Epoch 2/100\n",
            "313/313 [==============================] - 25s 81ms/step - loss: 0.6983 - accuracy: 0.4955 - val_loss: 0.6956 - val_accuracy: 0.5010\n",
            "Epoch 3/100\n",
            "313/313 [==============================] - 27s 86ms/step - loss: 0.6953 - accuracy: 0.5076 - val_loss: 0.6940 - val_accuracy: 0.5074\n",
            "Epoch 4/100\n",
            "313/313 [==============================] - 27s 85ms/step - loss: 0.6934 - accuracy: 0.5158 - val_loss: 0.6926 - val_accuracy: 0.5114\n",
            "Epoch 5/100\n",
            "313/313 [==============================] - 26s 83ms/step - loss: 0.6908 - accuracy: 0.5255 - val_loss: 0.6911 - val_accuracy: 0.5164\n",
            "Epoch 6/100\n",
            "313/313 [==============================] - 26s 83ms/step - loss: 0.6889 - accuracy: 0.5358 - val_loss: 0.6895 - val_accuracy: 0.5272\n",
            "Epoch 7/100\n",
            "313/313 [==============================] - 25s 80ms/step - loss: 0.6865 - accuracy: 0.5515 - val_loss: 0.6876 - val_accuracy: 0.5354\n",
            "Epoch 8/100\n",
            "313/313 [==============================] - 25s 80ms/step - loss: 0.6838 - accuracy: 0.5614 - val_loss: 0.6851 - val_accuracy: 0.5430\n",
            "Epoch 9/100\n",
            "313/313 [==============================] - 25s 80ms/step - loss: 0.6806 - accuracy: 0.5734 - val_loss: 0.6807 - val_accuracy: 0.5610\n",
            "Epoch 10/100\n",
            "313/313 [==============================] - 25s 81ms/step - loss: 0.6747 - accuracy: 0.5905 - val_loss: 0.6651 - val_accuracy: 0.6080\n",
            "Epoch 11/100\n",
            "313/313 [==============================] - 25s 81ms/step - loss: 0.6526 - accuracy: 0.6296 - val_loss: 0.6380 - val_accuracy: 0.6482\n",
            "Epoch 12/100\n",
            "313/313 [==============================] - 26s 82ms/step - loss: 0.6293 - accuracy: 0.6523 - val_loss: 0.6198 - val_accuracy: 0.6666\n",
            "Epoch 13/100\n",
            "313/313 [==============================] - 26s 84ms/step - loss: 0.6075 - accuracy: 0.6787 - val_loss: 0.6005 - val_accuracy: 0.6870\n",
            "Epoch 14/100\n",
            "313/313 [==============================] - 25s 78ms/step - loss: 0.5864 - accuracy: 0.7026 - val_loss: 0.5803 - val_accuracy: 0.7050\n",
            "Epoch 15/100\n",
            "313/313 [==============================] - 25s 80ms/step - loss: 0.5608 - accuracy: 0.7261 - val_loss: 0.5637 - val_accuracy: 0.7132\n",
            "Epoch 16/100\n",
            "313/313 [==============================] - 25s 81ms/step - loss: 0.5450 - accuracy: 0.7369 - val_loss: 0.5505 - val_accuracy: 0.7248\n",
            "Epoch 17/100\n",
            "313/313 [==============================] - 25s 79ms/step - loss: 0.5290 - accuracy: 0.7493 - val_loss: 0.5388 - val_accuracy: 0.7328\n",
            "Epoch 18/100\n",
            "313/313 [==============================] - 25s 81ms/step - loss: 0.5199 - accuracy: 0.7533 - val_loss: 0.5263 - val_accuracy: 0.7442\n",
            "Epoch 19/100\n",
            "313/313 [==============================] - 25s 80ms/step - loss: 0.5048 - accuracy: 0.7679 - val_loss: 0.5171 - val_accuracy: 0.7510\n",
            "Epoch 20/100\n",
            "313/313 [==============================] - 26s 82ms/step - loss: 0.4993 - accuracy: 0.7681 - val_loss: 0.5089 - val_accuracy: 0.7588\n",
            "Epoch 21/100\n",
            "313/313 [==============================] - 26s 82ms/step - loss: 0.4878 - accuracy: 0.7759 - val_loss: 0.5046 - val_accuracy: 0.7608\n",
            "Epoch 22/100\n",
            "313/313 [==============================] - 26s 83ms/step - loss: 0.4815 - accuracy: 0.7813 - val_loss: 0.4958 - val_accuracy: 0.7676\n",
            "Epoch 23/100\n",
            "313/313 [==============================] - 26s 84ms/step - loss: 0.4731 - accuracy: 0.7841 - val_loss: 0.4916 - val_accuracy: 0.7682\n",
            "Epoch 24/100\n",
            "313/313 [==============================] - 26s 82ms/step - loss: 0.4707 - accuracy: 0.7888 - val_loss: 0.4916 - val_accuracy: 0.7662\n",
            "Epoch 25/100\n",
            "313/313 [==============================] - 25s 80ms/step - loss: 0.4662 - accuracy: 0.7883 - val_loss: 0.4851 - val_accuracy: 0.7732\n",
            "Epoch 26/100\n",
            "313/313 [==============================] - 25s 81ms/step - loss: 0.4609 - accuracy: 0.7911 - val_loss: 0.4794 - val_accuracy: 0.7768\n",
            "Epoch 27/100\n",
            "313/313 [==============================] - 26s 84ms/step - loss: 0.4534 - accuracy: 0.7969 - val_loss: 0.4781 - val_accuracy: 0.7808\n",
            "Epoch 28/100\n",
            "313/313 [==============================] - 27s 86ms/step - loss: 0.4460 - accuracy: 0.8029 - val_loss: 0.4743 - val_accuracy: 0.7784\n",
            "Epoch 29/100\n",
            "313/313 [==============================] - 26s 83ms/step - loss: 0.4444 - accuracy: 0.8023 - val_loss: 0.4726 - val_accuracy: 0.7800\n",
            "Epoch 30/100\n",
            "313/313 [==============================] - 25s 81ms/step - loss: 0.4450 - accuracy: 0.8027 - val_loss: 0.4703 - val_accuracy: 0.7818\n",
            "Epoch 31/100\n",
            "313/313 [==============================] - 25s 80ms/step - loss: 0.4390 - accuracy: 0.8065 - val_loss: 0.4685 - val_accuracy: 0.7812\n",
            "Epoch 32/100\n",
            "313/313 [==============================] - 26s 82ms/step - loss: 0.4408 - accuracy: 0.8056 - val_loss: 0.4658 - val_accuracy: 0.7846\n",
            "Epoch 33/100\n",
            "313/313 [==============================] - 25s 81ms/step - loss: 0.4373 - accuracy: 0.8094 - val_loss: 0.4638 - val_accuracy: 0.7842\n",
            "Epoch 34/100\n",
            "313/313 [==============================] - 25s 79ms/step - loss: 0.4356 - accuracy: 0.8077 - val_loss: 0.4643 - val_accuracy: 0.7848\n",
            "Epoch 35/100\n",
            "313/313 [==============================] - 28s 88ms/step - loss: 0.4311 - accuracy: 0.8106 - val_loss: 0.4632 - val_accuracy: 0.7854\n",
            "Epoch 36/100\n",
            "313/313 [==============================] - 26s 82ms/step - loss: 0.4212 - accuracy: 0.8144 - val_loss: 0.4628 - val_accuracy: 0.7850\n",
            "Epoch 37/100\n",
            "313/313 [==============================] - 26s 83ms/step - loss: 0.4277 - accuracy: 0.8136 - val_loss: 0.4591 - val_accuracy: 0.7860\n",
            "Epoch 38/100\n",
            "313/313 [==============================] - 25s 80ms/step - loss: 0.4204 - accuracy: 0.8161 - val_loss: 0.4634 - val_accuracy: 0.7862\n",
            "Epoch 39/100\n",
            "313/313 [==============================] - 24s 78ms/step - loss: 0.4157 - accuracy: 0.8178 - val_loss: 0.4599 - val_accuracy: 0.7886\n",
            "Epoch 40/100\n",
            "313/313 [==============================] - 26s 83ms/step - loss: 0.4233 - accuracy: 0.8147 - val_loss: 0.4585 - val_accuracy: 0.7864\n",
            "Epoch 41/100\n",
            "313/313 [==============================] - 25s 80ms/step - loss: 0.4259 - accuracy: 0.8127 - val_loss: 0.4571 - val_accuracy: 0.7882\n",
            "Epoch 42/100\n",
            "313/313 [==============================] - 26s 85ms/step - loss: 0.4134 - accuracy: 0.8193 - val_loss: 0.4561 - val_accuracy: 0.7908\n",
            "Epoch 43/100\n",
            "313/313 [==============================] - 26s 85ms/step - loss: 0.4150 - accuracy: 0.8205 - val_loss: 0.4612 - val_accuracy: 0.7876\n",
            "Epoch 44/100\n",
            "313/313 [==============================] - 26s 83ms/step - loss: 0.4114 - accuracy: 0.8214 - val_loss: 0.4566 - val_accuracy: 0.7904\n",
            "Epoch 45/100\n",
            "313/313 [==============================] - 26s 82ms/step - loss: 0.4096 - accuracy: 0.8207 - val_loss: 0.4552 - val_accuracy: 0.7924\n",
            "Epoch 46/100\n",
            "313/313 [==============================] - 25s 79ms/step - loss: 0.4126 - accuracy: 0.8186 - val_loss: 0.4546 - val_accuracy: 0.7934\n",
            "Epoch 47/100\n",
            "313/313 [==============================] - 26s 83ms/step - loss: 0.4015 - accuracy: 0.8253 - val_loss: 0.4546 - val_accuracy: 0.7942\n",
            "Epoch 48/100\n",
            "313/313 [==============================] - 25s 80ms/step - loss: 0.4139 - accuracy: 0.8173 - val_loss: 0.4550 - val_accuracy: 0.7882\n",
            "Epoch 49/100\n",
            "313/313 [==============================] - 26s 83ms/step - loss: 0.4020 - accuracy: 0.8228 - val_loss: 0.4531 - val_accuracy: 0.7948\n",
            "Epoch 50/100\n",
            "313/313 [==============================] - 25s 80ms/step - loss: 0.4041 - accuracy: 0.8226 - val_loss: 0.4554 - val_accuracy: 0.7918\n",
            "Epoch 51/100\n",
            "313/313 [==============================] - 26s 84ms/step - loss: 0.4073 - accuracy: 0.8215 - val_loss: 0.4526 - val_accuracy: 0.7944\n",
            "Epoch 52/100\n",
            "313/313 [==============================] - 27s 86ms/step - loss: 0.4041 - accuracy: 0.8234 - val_loss: 0.4563 - val_accuracy: 0.7912\n",
            "Epoch 53/100\n",
            "313/313 [==============================] - 25s 80ms/step - loss: 0.3985 - accuracy: 0.8235 - val_loss: 0.4564 - val_accuracy: 0.7908\n",
            "Epoch 54/100\n",
            "313/313 [==============================] - 26s 82ms/step - loss: 0.3964 - accuracy: 0.8282 - val_loss: 0.4532 - val_accuracy: 0.7930\n"
          ],
          "name": "stdout"
        }
      ]
    },
    {
      "cell_type": "code",
      "metadata": {
        "execution": {
          "iopub.execute_input": "2020-10-12T01:30:36.190161Z",
          "iopub.status.busy": "2020-10-12T01:30:36.175046Z",
          "iopub.status.idle": "2020-10-12T01:30:36.782577Z",
          "shell.execute_reply": "2020-10-12T01:30:36.784046Z"
        },
        "id": "YS_5tIG26kQa",
        "colab": {
          "base_uri": "https://localhost:8080/",
          "height": 300
        },
        "outputId": "ea8aaedd-6632-42d0-ccfa-d9ffd161475b"
      },
      "source": [
        "plt.plot(history.history['loss'])\n",
        "plt.plot(history.history['val_loss'])\n",
        "plt.xlabel('epoch')\n",
        "plt.ylabel('loss')\n",
        "plt.legend(['train', 'val'])\n",
        "plt.show()"
      ],
      "execution_count": null,
      "outputs": [
        {
          "output_type": "display_data",
          "data": {
            "image/png": "[encoded data removed]",
            "text/plain": [
              "<Figure size 432x288 with 1 Axes>"
            ]
          },
          "metadata": {
            "tags": [],
            "needs_background": "light"
          }
        }
      ]
    },
    {
      "cell_type": "markdown",
      "metadata": {
        "id": "K_U_lVie6kQa"
      },
      "source": [
        "## 단어 임베딩을 사용하기"
      ]
    },
    {
      "cell_type": "code",
      "metadata": {
        "execution": {
          "iopub.execute_input": "2020-10-12T01:30:36.795147Z",
          "iopub.status.busy": "2020-10-12T01:30:36.793959Z",
          "iopub.status.idle": "2020-10-12T01:30:37.414822Z",
          "shell.execute_reply": "2020-10-12T01:30:37.417021Z"
        },
        "id": "Ofl-Ifev6kQa",
        "colab": {
          "base_uri": "https://localhost:8080/"
        },
        "outputId": "38f11282-e99b-440c-de94-36010eda06be"
      },
      "source": [
        "model2 = keras.Sequential()\n",
        "\n",
        "model2.add(keras.layers.Embedding(500, 16, input_length=100))\n",
        "model2.add(keras.layers.SimpleRNN(8))\n",
        "model2.add(keras.layers.Dense(1, activation='sigmoid'))\n",
        "\n",
        "model2.summary()"
      ],
      "execution_count": null,
      "outputs": [
        {
          "output_type": "stream",
          "text": [
            "Model: \"sequential_1\"\n",
            "_________________________________________________________________\n",
            "Layer (type)                 Output Shape              Param #   \n",
            "=================================================================\n",
            "embedding (Embedding)        (None, 100, 16)           8000      \n",
            "_________________________________________________________________\n",
            "simple_rnn_1 (SimpleRNN)     (None, 8)                 200       \n",
            "_________________________________________________________________\n",
            "dense_1 (Dense)              (None, 1)                 9         \n",
            "=================================================================\n",
            "Total params: 8,209\n",
            "Trainable params: 8,209\n",
            "Non-trainable params: 0\n",
            "_________________________________________________________________\n"
          ],
          "name": "stdout"
        }
      ]
    },
    {
      "cell_type": "code",
      "metadata": {
        "execution": {
          "iopub.execute_input": "2020-10-12T01:30:37.439013Z",
          "iopub.status.busy": "2020-10-12T01:30:37.437655Z",
          "iopub.status.idle": "2020-10-12T01:40:38.584921Z",
          "shell.execute_reply": "2020-10-12T01:40:38.586340Z"
        },
        "id": "78TUrJAs6kQa",
        "colab": {
          "base_uri": "https://localhost:8080/"
        },
        "outputId": "49cf3664-922f-4074-e09b-21f60b60529a"
      },
      "source": [
        "rmsprop = keras.optimizers.RMSprop(learning_rate=1e-4)\n",
        "model2.compile(optimizer=rmsprop, loss='binary_crossentropy', \n",
        "               metrics=['accuracy'])\n",
        "\n",
        "checkpoint_cb = keras.callbacks.ModelCheckpoint('best-embedding-model.h5', \n",
        "                                                save_best_only=True)\n",
        "early_stopping_cb = keras.callbacks.EarlyStopping(patience=3,\n",
        "                                                  restore_best_weights=True)\n",
        "\n",
        "history = model2.fit(train_seq, train_target, epochs=100, batch_size=64,\n",
        "                     validation_data=(val_seq, val_target),\n",
        "                     callbacks=[checkpoint_cb, early_stopping_cb])"
      ],
      "execution_count": null,
      "outputs": [
        {
          "output_type": "stream",
          "text": [
            "Epoch 1/100\n",
            "313/313 [==============================] - 27s 83ms/step - loss: 0.6938 - accuracy: 0.5051 - val_loss: 0.6899 - val_accuracy: 0.5394\n",
            "Epoch 2/100\n",
            "313/313 [==============================] - 26s 84ms/step - loss: 0.6841 - accuracy: 0.5692 - val_loss: 0.6706 - val_accuracy: 0.6358\n",
            "Epoch 3/100\n",
            "313/313 [==============================] - 25s 80ms/step - loss: 0.6619 - accuracy: 0.6602 - val_loss: 0.6508 - val_accuracy: 0.6786\n",
            "Epoch 4/100\n",
            "313/313 [==============================] - 27s 86ms/step - loss: 0.6386 - accuracy: 0.6969 - val_loss: 0.6262 - val_accuracy: 0.7074\n",
            "Epoch 5/100\n",
            "313/313 [==============================] - 26s 83ms/step - loss: 0.6135 - accuracy: 0.7212 - val_loss: 0.6067 - val_accuracy: 0.7092\n",
            "Epoch 6/100\n",
            "313/313 [==============================] - 26s 83ms/step - loss: 0.5872 - accuracy: 0.7396 - val_loss: 0.5771 - val_accuracy: 0.7354\n",
            "Epoch 7/100\n",
            "313/313 [==============================] - 26s 84ms/step - loss: 0.5550 - accuracy: 0.7620 - val_loss: 0.5527 - val_accuracy: 0.7606\n",
            "Epoch 8/100\n",
            "313/313 [==============================] - 26s 84ms/step - loss: 0.5304 - accuracy: 0.7744 - val_loss: 0.5269 - val_accuracy: 0.7620\n",
            "Epoch 9/100\n",
            "313/313 [==============================] - 26s 83ms/step - loss: 0.5060 - accuracy: 0.7880 - val_loss: 0.5095 - val_accuracy: 0.7682\n",
            "Epoch 10/100\n",
            "313/313 [==============================] - 27s 85ms/step - loss: 0.4859 - accuracy: 0.7945 - val_loss: 0.5016 - val_accuracy: 0.7752\n",
            "Epoch 11/100\n",
            "313/313 [==============================] - 27s 87ms/step - loss: 0.4698 - accuracy: 0.8003 - val_loss: 0.4876 - val_accuracy: 0.7766\n",
            "Epoch 12/100\n",
            "313/313 [==============================] - 27s 87ms/step - loss: 0.4598 - accuracy: 0.8039 - val_loss: 0.4879 - val_accuracy: 0.7770\n",
            "Epoch 13/100\n",
            "313/313 [==============================] - 26s 84ms/step - loss: 0.4583 - accuracy: 0.7979 - val_loss: 0.4779 - val_accuracy: 0.7828\n",
            "Epoch 14/100\n",
            "313/313 [==============================] - 27s 85ms/step - loss: 0.4479 - accuracy: 0.8065 - val_loss: 0.4742 - val_accuracy: 0.7824\n",
            "Epoch 15/100\n",
            "313/313 [==============================] - 27s 85ms/step - loss: 0.4392 - accuracy: 0.8107 - val_loss: 0.4806 - val_accuracy: 0.7768\n",
            "Epoch 16/100\n",
            "313/313 [==============================] - 27s 85ms/step - loss: 0.4401 - accuracy: 0.8070 - val_loss: 0.4686 - val_accuracy: 0.7852\n",
            "Epoch 17/100\n",
            "313/313 [==============================] - 26s 82ms/step - loss: 0.4331 - accuracy: 0.8131 - val_loss: 0.4683 - val_accuracy: 0.7854\n",
            "Epoch 18/100\n",
            "313/313 [==============================] - 26s 83ms/step - loss: 0.4347 - accuracy: 0.8119 - val_loss: 0.4680 - val_accuracy: 0.7842\n",
            "Epoch 19/100\n",
            "313/313 [==============================] - 26s 83ms/step - loss: 0.4203 - accuracy: 0.8198 - val_loss: 0.4666 - val_accuracy: 0.7848\n",
            "Epoch 20/100\n",
            "313/313 [==============================] - 27s 85ms/step - loss: 0.4248 - accuracy: 0.8192 - val_loss: 0.4724 - val_accuracy: 0.7832\n",
            "Epoch 21/100\n",
            "313/313 [==============================] - 25s 81ms/step - loss: 0.4249 - accuracy: 0.8168 - val_loss: 0.4672 - val_accuracy: 0.7852\n",
            "Epoch 22/100\n",
            "313/313 [==============================] - 25s 81ms/step - loss: 0.4185 - accuracy: 0.8226 - val_loss: 0.4607 - val_accuracy: 0.7908\n",
            "Epoch 23/100\n",
            "313/313 [==============================] - 26s 83ms/step - loss: 0.4142 - accuracy: 0.8214 - val_loss: 0.4663 - val_accuracy: 0.7836\n",
            "Epoch 24/100\n",
            "313/313 [==============================] - 27s 87ms/step - loss: 0.4160 - accuracy: 0.8194 - val_loss: 0.4613 - val_accuracy: 0.7864\n",
            "Epoch 25/100\n",
            "313/313 [==============================] - 26s 83ms/step - loss: 0.4096 - accuracy: 0.8207 - val_loss: 0.4617 - val_accuracy: 0.7840\n"
          ],
          "name": "stdout"
        }
      ]
    },
    {
      "cell_type": "code",
      "metadata": {
        "execution": {
          "iopub.execute_input": "2020-10-12T01:40:38.604725Z",
          "iopub.status.busy": "2020-10-12T01:40:38.602954Z",
          "iopub.status.idle": "2020-10-12T01:40:39.220316Z",
          "shell.execute_reply": "2020-10-12T01:40:39.221611Z"
        },
        "id": "brUvKwLt6kQb",
        "colab": {
          "base_uri": "https://localhost:8080/",
          "height": 300
        },
        "outputId": "3c94dc37-5023-411b-a96f-247955802cc5"
      },
      "source": [
        "plt.plot(history.history['loss'])\n",
        "plt.plot(history.history['val_loss'])\n",
        "plt.xlabel('epoch')\n",
        "plt.ylabel('loss')\n",
        "plt.legend(['train', 'val'])\n",
        "plt.show()"
      ],
      "execution_count": null,
      "outputs": [
        {
          "output_type": "display_data",
          "data": {
            "image/png": "[encoded data removed]",
            "text/plain": [
              "<Figure size 432x288 with 1 Axes>"
            ]
          },
          "metadata": {
            "tags": [],
            "needs_background": "light"
          }
        }
      ]
    }
  ]
}