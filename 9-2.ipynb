{
  "nbformat": 4,
  "nbformat_minor": 0,
  "metadata": {
    "kernelspec": {
      "display_name": "TensorFlow 2.3 on Python 3.6 (CUDA 10.1)",
      "language": "python",
      "name": "python3"
    },
    "language_info": {
      "codemirror_mode": {
        "name": "ipython",
        "version": 3
      },
      "file_extension": ".py",
      "mimetype": "text/x-python",
      "name": "python",
      "nbconvert_exporter": "python",
      "pygments_lexer": "ipython3",
      "version": "3.6.9"
    },
    "colab": {
      "name": "9-2.ipynb",
      "provenance": []
    },
    "accelerator": "GPU"
  },
  "cells": [
    {
      "cell_type": "markdown",
      "metadata": {
        "id": "MusV5YYT6kQF"
      },
      "source": [
        "# 순환 신경망으로 IMDB 리뷰 분류하기"
      ]
    },
    {
      "cell_type": "markdown",
      "metadata": {
        "id": "9uYfRb5-6kQQ"
      },
      "source": [
        "<table align=\"left\">\n",
        "  <td>\n",
        "    <a target=\"_blank\" href=\"https://colab.research.google.com/github/rickiepark/hg-mldl/blob/master/9-2.ipynb\"><img src=\"https://www.tensorflow.org/images/colab_logo_32px.png\" />구글 코랩에서 실행하기</a>\n",
        "  </td>\n",
        "</table>"
      ]
    },
    {
      "cell_type": "markdown",
      "metadata": {
        "id": "S1A-DDIQ6kQQ"
      },
      "source": [
        "## IMDB 리뷰 데이터셋"
      ]
    },
    {
      "cell_type": "code",
      "metadata": {
        "execution": {
          "iopub.execute_input": "2020-10-12T01:18:41.979392Z",
          "iopub.status.busy": "2020-10-12T01:18:41.978299Z",
          "iopub.status.idle": "2020-10-12T01:18:52.473300Z",
          "shell.execute_reply": "2020-10-12T01:18:52.471703Z"
        },
        "id": "sZoZm1ZO6kQR",
        "colab": {
          "base_uri": "https://localhost:8080/"
        },
        "outputId": "e313a71b-3716-4cdb-dd52-83bd7c336bc4"
      },
      "source": [
        "from tensorflow.keras.datasets import imdb\n",
        "\n",
        "(train_input, train_target), (test_input, test_target) = imdb.load_data(\n",
        "    num_words=500)"
      ],
      "execution_count": 1,
      "outputs": [
        {
          "output_type": "stream",
          "text": [
            "Downloading data from https://storage.googleapis.com/tensorflow/tf-keras-datasets/imdb.npz\n",
            "17465344/17464789 [==============================] - 0s 0us/step\n"
          ],
          "name": "stdout"
        },
        {
          "output_type": "stream",
          "text": [
            "<string>:6: VisibleDeprecationWarning: Creating an ndarray from ragged nested sequences (which is a list-or-tuple of lists-or-tuples-or ndarrays with different lengths or shapes) is deprecated. If you meant to do this, you must specify 'dtype=object' when creating the ndarray\n",
            "/usr/local/lib/python3.7/dist-packages/tensorflow/python/keras/datasets/imdb.py:155: VisibleDeprecationWarning: Creating an ndarray from ragged nested sequences (which is a list-or-tuple of lists-or-tuples-or ndarrays with different lengths or shapes) is deprecated. If you meant to do this, you must specify 'dtype=object' when creating the ndarray\n",
            "  x_train, y_train = np.array(xs[:idx]), np.array(labels[:idx])\n",
            "/usr/local/lib/python3.7/dist-packages/tensorflow/python/keras/datasets/imdb.py:156: VisibleDeprecationWarning: Creating an ndarray from ragged nested sequences (which is a list-or-tuple of lists-or-tuples-or ndarrays with different lengths or shapes) is deprecated. If you meant to do this, you must specify 'dtype=object' when creating the ndarray\n",
            "  x_test, y_test = np.array(xs[idx:]), np.array(labels[idx:])\n"
          ],
          "name": "stderr"
        }
      ]
    },
    {
      "cell_type": "code",
      "metadata": {
        "execution": {
          "iopub.execute_input": "2020-10-12T01:18:52.481400Z",
          "iopub.status.busy": "2020-10-12T01:18:52.479645Z",
          "iopub.status.idle": "2020-10-12T01:18:52.485658Z",
          "shell.execute_reply": "2020-10-12T01:18:52.486465Z"
        },
        "id": "HTFjz6k06kQR",
        "colab": {
          "base_uri": "https://localhost:8080/"
        },
        "outputId": "05e3321d-ee80-4c36-ec0b-47312534a7d4"
      },
      "source": [
        "print(train_input.shape, test_input.shape)"
      ],
      "execution_count": 2,
      "outputs": [
        {
          "output_type": "stream",
          "text": [
            "(25000,) (25000,)\n"
          ],
          "name": "stdout"
        }
      ]
    },
    {
      "cell_type": "code",
      "metadata": {
        "execution": {
          "iopub.execute_input": "2020-10-12T01:18:52.493608Z",
          "iopub.status.busy": "2020-10-12T01:18:52.492625Z",
          "iopub.status.idle": "2020-10-12T01:18:52.496804Z",
          "shell.execute_reply": "2020-10-12T01:18:52.497722Z"
        },
        "id": "4jMLURzw6kQS",
        "colab": {
          "base_uri": "https://localhost:8080/"
        },
        "outputId": "d64c1779-fcea-4907-c242-f4bf38bb4390"
      },
      "source": [
        "print(len(train_input[0]))"
      ],
      "execution_count": 3,
      "outputs": [
        {
          "output_type": "stream",
          "text": [
            "218\n"
          ],
          "name": "stdout"
        }
      ]
    },
    {
      "cell_type": "code",
      "metadata": {
        "execution": {
          "iopub.execute_input": "2020-10-12T01:18:52.504933Z",
          "iopub.status.busy": "2020-10-12T01:18:52.503811Z",
          "iopub.status.idle": "2020-10-12T01:18:52.508252Z",
          "shell.execute_reply": "2020-10-12T01:18:52.509172Z"
        },
        "id": "xdO834PL6kQT",
        "colab": {
          "base_uri": "https://localhost:8080/"
        },
        "outputId": "37dfcd91-0b64-4de0-ff12-54d87e061f9d"
      },
      "source": [
        "print(len(train_input[1]))"
      ],
      "execution_count": 4,
      "outputs": [
        {
          "output_type": "stream",
          "text": [
            "189\n"
          ],
          "name": "stdout"
        }
      ]
    },
    {
      "cell_type": "code",
      "metadata": {
        "execution": {
          "iopub.execute_input": "2020-10-12T01:18:52.516102Z",
          "iopub.status.busy": "2020-10-12T01:18:52.515014Z",
          "iopub.status.idle": "2020-10-12T01:18:52.520096Z",
          "shell.execute_reply": "2020-10-12T01:18:52.520972Z"
        },
        "id": "QNuzGQ2c6kQT",
        "colab": {
          "base_uri": "https://localhost:8080/"
        },
        "outputId": "0caadb93-6d51-49aa-d63a-c011c824a565"
      },
      "source": [
        "print(train_input[0])"
      ],
      "execution_count": 5,
      "outputs": [
        {
          "output_type": "stream",
          "text": [
            "[1, 14, 22, 16, 43, 2, 2, 2, 2, 65, 458, 2, 66, 2, 4, 173, 36, 256, 5, 25, 100, 43, 2, 112, 50, 2, 2, 9, 35, 480, 284, 5, 150, 4, 172, 112, 167, 2, 336, 385, 39, 4, 172, 2, 2, 17, 2, 38, 13, 447, 4, 192, 50, 16, 6, 147, 2, 19, 14, 22, 4, 2, 2, 469, 4, 22, 71, 87, 12, 16, 43, 2, 38, 76, 15, 13, 2, 4, 22, 17, 2, 17, 12, 16, 2, 18, 2, 5, 62, 386, 12, 8, 316, 8, 106, 5, 4, 2, 2, 16, 480, 66, 2, 33, 4, 130, 12, 16, 38, 2, 5, 25, 124, 51, 36, 135, 48, 25, 2, 33, 6, 22, 12, 215, 28, 77, 52, 5, 14, 407, 16, 82, 2, 8, 4, 107, 117, 2, 15, 256, 4, 2, 7, 2, 5, 2, 36, 71, 43, 2, 476, 26, 400, 317, 46, 7, 4, 2, 2, 13, 104, 88, 4, 381, 15, 297, 98, 32, 2, 56, 26, 141, 6, 194, 2, 18, 4, 226, 22, 21, 134, 476, 26, 480, 5, 144, 30, 2, 18, 51, 36, 28, 224, 92, 25, 104, 4, 226, 65, 16, 38, 2, 88, 12, 16, 283, 5, 16, 2, 113, 103, 32, 15, 16, 2, 19, 178, 32]\n"
          ],
          "name": "stdout"
        }
      ]
    },
    {
      "cell_type": "code",
      "metadata": {
        "execution": {
          "iopub.execute_input": "2020-10-12T01:18:52.528598Z",
          "iopub.status.busy": "2020-10-12T01:18:52.527510Z",
          "iopub.status.idle": "2020-10-12T01:18:52.532011Z",
          "shell.execute_reply": "2020-10-12T01:18:52.532936Z"
        },
        "id": "In8Qzltz6kQT",
        "colab": {
          "base_uri": "https://localhost:8080/"
        },
        "outputId": "36db13f3-8fb4-44aa-ef25-b0fa88e73838"
      },
      "source": [
        "print(train_target[:20])"
      ],
      "execution_count": 6,
      "outputs": [
        {
          "output_type": "stream",
          "text": [
            "[1 0 0 1 0 0 1 0 1 0 1 0 0 0 0 0 1 1 0 1]\n"
          ],
          "name": "stdout"
        }
      ]
    },
    {
      "cell_type": "code",
      "metadata": {
        "execution": {
          "iopub.execute_input": "2020-10-12T01:18:52.541031Z",
          "iopub.status.busy": "2020-10-12T01:18:52.539873Z",
          "iopub.status.idle": "2020-10-12T01:18:52.812559Z",
          "shell.execute_reply": "2020-10-12T01:18:52.810985Z"
        },
        "id": "0-zjNgBw6kQU"
      },
      "source": [
        "from sklearn.model_selection import train_test_split\n",
        "\n",
        "train_input, val_input, train_target, val_target = train_test_split(\n",
        "    train_input, train_target, test_size=0.2, random_state=42)"
      ],
      "execution_count": 7,
      "outputs": []
    },
    {
      "cell_type": "code",
      "metadata": {
        "execution": {
          "iopub.execute_input": "2020-10-12T01:18:52.833360Z",
          "iopub.status.busy": "2020-10-12T01:18:52.831841Z",
          "iopub.status.idle": "2020-10-12T01:18:52.834920Z",
          "shell.execute_reply": "2020-10-12T01:18:52.836117Z"
        },
        "id": "sRVvgntx6kQU"
      },
      "source": [
        "import numpy as np\n",
        "\n",
        "lengths = np.array([len(x) for x in train_input])"
      ],
      "execution_count": 8,
      "outputs": []
    },
    {
      "cell_type": "code",
      "metadata": {
        "execution": {
          "iopub.execute_input": "2020-10-12T01:18:52.843759Z",
          "iopub.status.busy": "2020-10-12T01:18:52.842297Z",
          "iopub.status.idle": "2020-10-12T01:18:52.847506Z",
          "shell.execute_reply": "2020-10-12T01:18:52.848361Z"
        },
        "id": "p76m_61w6kQU",
        "colab": {
          "base_uri": "https://localhost:8080/"
        },
        "outputId": "77763e28-360e-473e-8138-e50a8bec31de"
      },
      "source": [
        "print(np.mean(lengths), np.median(lengths))"
      ],
      "execution_count": 9,
      "outputs": [
        {
          "output_type": "stream",
          "text": [
            "239.00925 178.0\n"
          ],
          "name": "stdout"
        }
      ]
    },
    {
      "cell_type": "code",
      "metadata": {
        "execution": {
          "iopub.execute_input": "2020-10-12T01:18:52.874891Z",
          "iopub.status.busy": "2020-10-12T01:18:52.873857Z",
          "iopub.status.idle": "2020-10-12T01:18:53.042560Z",
          "shell.execute_reply": "2020-10-12T01:18:53.040898Z"
        },
        "id": "TVDrsRYF6kQV",
        "colab": {
          "base_uri": "https://localhost:8080/",
          "height": 279
        },
        "outputId": "82c4815c-4a17-4a35-a7cd-aeac122e52fd"
      },
      "source": [
        "import matplotlib.pyplot as plt\n",
        "\n",
        "plt.hist(lengths)\n",
        "plt.xlabel('length')\n",
        "plt.ylabel('frequency')\n",
        "plt.show()"
      ],
      "execution_count": 10,
      "outputs": [
        {
          "output_type": "display_data",
          "data": {
            "image/png": "[encoded data removed]",
            "text/plain": [
              "<Figure size 432x288 with 1 Axes>"
            ]
          },
          "metadata": {
            "tags": [],
            "needs_background": "light"
          }
        }
      ]
    },
    {
      "cell_type": "code",
      "metadata": {
        "execution": {
          "iopub.execute_input": "2020-10-12T01:18:53.056410Z",
          "iopub.status.busy": "2020-10-12T01:18:53.054676Z",
          "iopub.status.idle": "2020-10-12T01:18:53.509881Z",
          "shell.execute_reply": "2020-10-12T01:18:53.507938Z"
        },
        "id": "fbLSFToP6kQV"
      },
      "source": [
        "from tensorflow.keras.preprocessing.sequence import pad_sequences\n",
        "\n",
        "train_seq = pad_sequences(train_input, maxlen=100)"
      ],
      "execution_count": 11,
      "outputs": []
    },
    {
      "cell_type": "code",
      "metadata": {
        "execution": {
          "iopub.execute_input": "2020-10-12T01:18:53.516113Z",
          "iopub.status.busy": "2020-10-12T01:18:53.514858Z",
          "iopub.status.idle": "2020-10-12T01:18:53.519062Z",
          "shell.execute_reply": "2020-10-12T01:18:53.520171Z"
        },
        "id": "3c86x0Yj6kQV",
        "colab": {
          "base_uri": "https://localhost:8080/"
        },
        "outputId": "069e0dd7-cd29-43b4-dd4c-722741ee9c55"
      },
      "source": [
        "print(train_seq.shape)"
      ],
      "execution_count": 12,
      "outputs": [
        {
          "output_type": "stream",
          "text": [
            "(20000, 100)\n"
          ],
          "name": "stdout"
        }
      ]
    },
    {
      "cell_type": "code",
      "metadata": {
        "execution": {
          "iopub.execute_input": "2020-10-12T01:18:53.529088Z",
          "iopub.status.busy": "2020-10-12T01:18:53.527775Z",
          "iopub.status.idle": "2020-10-12T01:18:53.532885Z",
          "shell.execute_reply": "2020-10-12T01:18:53.533957Z"
        },
        "id": "JuP0QJaU6kQW",
        "colab": {
          "base_uri": "https://localhost:8080/"
        },
        "outputId": "62aa3a8f-bf82-4641-8b5b-5cdb58ff77b3"
      },
      "source": [
        "print(train_seq[0])"
      ],
      "execution_count": 13,
      "outputs": [
        {
          "output_type": "stream",
          "text": [
            "[ 10   4  20   9   2 364 352   5  45   6   2   2  33 269   8   2 142   2\n",
            "   5   2  17  73  17 204   5   2  19  55   2   2  92  66 104  14  20  93\n",
            "  76   2 151  33   4  58  12 188   2 151  12 215  69 224 142  73 237   6\n",
            "   2   7   2   2 188   2 103  14  31  10  10 451   7   2   5   2  80  91\n",
            "   2  30   2  34  14  20 151  50  26 131  49   2  84  46  50  37  80  79\n",
            "   6   2  46   7  14  20  10  10 470 158]\n"
          ],
          "name": "stdout"
        }
      ]
    },
    {
      "cell_type": "code",
      "metadata": {
        "execution": {
          "iopub.execute_input": "2020-10-12T01:18:53.541335Z",
          "iopub.status.busy": "2020-10-12T01:18:53.540161Z",
          "iopub.status.idle": "2020-10-12T01:18:53.544735Z",
          "shell.execute_reply": "2020-10-12T01:18:53.545765Z"
        },
        "id": "6t8kaDji6kQW",
        "colab": {
          "base_uri": "https://localhost:8080/"
        },
        "outputId": "dbdef300-b981-4956-e397-4ee77d93594a"
      },
      "source": [
        "print(train_input[0][-10:])"
      ],
      "execution_count": 14,
      "outputs": [
        {
          "output_type": "stream",
          "text": [
            "[6, 2, 46, 7, 14, 20, 10, 10, 470, 158]\n"
          ],
          "name": "stdout"
        }
      ]
    },
    {
      "cell_type": "code",
      "metadata": {
        "execution": {
          "iopub.execute_input": "2020-10-12T01:18:53.553993Z",
          "iopub.status.busy": "2020-10-12T01:18:53.552689Z",
          "iopub.status.idle": "2020-10-12T01:18:53.557009Z",
          "shell.execute_reply": "2020-10-12T01:18:53.558118Z"
        },
        "scrolled": true,
        "id": "Emmoztwa6kQX",
        "colab": {
          "base_uri": "https://localhost:8080/"
        },
        "outputId": "1f6544e3-b3c7-403c-96e1-b2bf3b016fdf"
      },
      "source": [
        "print(train_seq[5])"
      ],
      "execution_count": 15,
      "outputs": [
        {
          "output_type": "stream",
          "text": [
            "[  0   0   0   0   1   2 195  19  49   2   2 190   4   2 352   2 183  10\n",
            "  10  13  82  79   4   2  36  71 269   8   2  25  19  49   7   4   2   2\n",
            "   2   2   2  10  10  48  25  40   2  11   2   2  40   2   2   5   4   2\n",
            "   2  95  14 238  56 129   2  10  10  21   2  94 364 352   2   2  11 190\n",
            "  24 484   2   7  94 205 405  10  10  87   2  34  49   2   7   2   2   2\n",
            "   2   2 290   2  46  48  64  18   4   2]\n"
          ],
          "name": "stdout"
        }
      ]
    },
    {
      "cell_type": "code",
      "metadata": {
        "execution": {
          "iopub.execute_input": "2020-10-12T01:18:53.568279Z",
          "iopub.status.busy": "2020-10-12T01:18:53.566949Z",
          "iopub.status.idle": "2020-10-12T01:18:53.688571Z",
          "shell.execute_reply": "2020-10-12T01:18:53.687412Z"
        },
        "id": "ZeFmsjOd6kQX"
      },
      "source": [
        "val_seq = pad_sequences(val_input, maxlen=100)"
      ],
      "execution_count": 16,
      "outputs": []
    },
    {
      "cell_type": "markdown",
      "metadata": {
        "id": "9xab0nu_6kQX"
      },
      "source": [
        "## 순환 신경망 만들기"
      ]
    },
    {
      "cell_type": "code",
      "metadata": {
        "execution": {
          "iopub.execute_input": "2020-10-12T01:18:53.702727Z",
          "iopub.status.busy": "2020-10-12T01:18:53.694374Z",
          "iopub.status.idle": "2020-10-12T01:18:55.997285Z",
          "shell.execute_reply": "2020-10-12T01:18:55.995617Z"
        },
        "id": "45BtHGKX6kQX"
      },
      "source": [
        "from tensorflow import keras\n",
        "\n",
        "model = keras.Sequential()\n",
        "\n",
        "model.add(keras.layers.SimpleRNN(8, input_shape=(100, 500)))\n",
        "model.add(keras.layers.Dense(1, activation='sigmoid'))"
      ],
      "execution_count": 17,
      "outputs": []
    },
    {
      "cell_type": "code",
      "metadata": {
        "execution": {
          "iopub.execute_input": "2020-10-12T01:18:56.004523Z",
          "iopub.status.busy": "2020-10-12T01:18:56.002786Z",
          "iopub.status.idle": "2020-10-12T01:18:57.766487Z",
          "shell.execute_reply": "2020-10-12T01:18:57.764928Z"
        },
        "id": "oXIWyOuw6kQY"
      },
      "source": [
        "train_oh = keras.utils.to_categorical(train_seq)"
      ],
      "execution_count": 18,
      "outputs": []
    },
    {
      "cell_type": "code",
      "metadata": {
        "execution": {
          "iopub.execute_input": "2020-10-12T01:18:57.774226Z",
          "iopub.status.busy": "2020-10-12T01:18:57.772482Z",
          "iopub.status.idle": "2020-10-12T01:18:57.777731Z",
          "shell.execute_reply": "2020-10-12T01:18:57.778538Z"
        },
        "id": "VD94WiRT6kQY",
        "colab": {
          "base_uri": "https://localhost:8080/"
        },
        "outputId": "0bd918d8-2eb5-43de-d2fa-d7df9da69fba"
      },
      "source": [
        "print(train_oh.shape)"
      ],
      "execution_count": 19,
      "outputs": [
        {
          "output_type": "stream",
          "text": [
            "(20000, 100, 500)\n"
          ],
          "name": "stdout"
        }
      ]
    },
    {
      "cell_type": "code",
      "metadata": {
        "execution": {
          "iopub.execute_input": "2020-10-12T01:18:57.786369Z",
          "iopub.status.busy": "2020-10-12T01:18:57.785416Z",
          "iopub.status.idle": "2020-10-12T01:18:57.790217Z",
          "shell.execute_reply": "2020-10-12T01:18:57.791183Z"
        },
        "id": "VIVSHwJg6kQY",
        "colab": {
          "base_uri": "https://localhost:8080/"
        },
        "outputId": "148c0293-4900-43e3-b0ab-a3511d86a75b"
      },
      "source": [
        "print(train_oh[0][0][:12])"
      ],
      "execution_count": 20,
      "outputs": [
        {
          "output_type": "stream",
          "text": [
            "[0. 0. 0. 0. 0. 0. 0. 0. 0. 0. 1. 0.]\n"
          ],
          "name": "stdout"
        }
      ]
    },
    {
      "cell_type": "code",
      "metadata": {
        "execution": {
          "iopub.execute_input": "2020-10-12T01:18:57.798946Z",
          "iopub.status.busy": "2020-10-12T01:18:57.797788Z",
          "iopub.status.idle": "2020-10-12T01:18:57.802480Z",
          "shell.execute_reply": "2020-10-12T01:18:57.803390Z"
        },
        "id": "CP3ivii46kQZ",
        "colab": {
          "base_uri": "https://localhost:8080/"
        },
        "outputId": "e4ba4b87-c13f-4b2c-d69e-bd2d49c09d6e"
      },
      "source": [
        "print(np.sum(train_oh[0][0]))"
      ],
      "execution_count": 21,
      "outputs": [
        {
          "output_type": "stream",
          "text": [
            "1.0\n"
          ],
          "name": "stdout"
        }
      ]
    },
    {
      "cell_type": "code",
      "metadata": {
        "execution": {
          "iopub.execute_input": "2020-10-12T01:18:57.810383Z",
          "iopub.status.busy": "2020-10-12T01:18:57.809293Z",
          "iopub.status.idle": "2020-10-12T01:18:58.247989Z",
          "shell.execute_reply": "2020-10-12T01:18:58.248931Z"
        },
        "id": "vgijH6m26kQZ"
      },
      "source": [
        "val_oh = keras.utils.to_categorical(val_seq)"
      ],
      "execution_count": 22,
      "outputs": []
    },
    {
      "cell_type": "code",
      "metadata": {
        "execution": {
          "iopub.execute_input": "2020-10-12T01:18:58.256367Z",
          "iopub.status.busy": "2020-10-12T01:18:58.255252Z",
          "iopub.status.idle": "2020-10-12T01:18:58.261986Z",
          "shell.execute_reply": "2020-10-12T01:18:58.262846Z"
        },
        "id": "0V0Svpuf6kQZ",
        "colab": {
          "base_uri": "https://localhost:8080/"
        },
        "outputId": "0bf510fa-d72e-487a-e0c1-326f318dd2c9"
      },
      "source": [
        "model.summary()"
      ],
      "execution_count": 23,
      "outputs": [
        {
          "output_type": "stream",
          "text": [
            "Model: \"sequential\"\n",
            "_________________________________________________________________\n",
            "Layer (type)                 Output Shape              Param #   \n",
            "=================================================================\n",
            "simple_rnn (SimpleRNN)       (None, 8)                 4072      \n",
            "_________________________________________________________________\n",
            "dense (Dense)                (None, 1)                 9         \n",
            "=================================================================\n",
            "Total params: 4,081\n",
            "Trainable params: 4,081\n",
            "Non-trainable params: 0\n",
            "_________________________________________________________________\n"
          ],
          "name": "stdout"
        }
      ]
    },
    {
      "cell_type": "markdown",
      "metadata": {
        "id": "S22Hc-7L6kQZ"
      },
      "source": [
        "## 순환 신경망 훈련하기"
      ]
    },
    {
      "cell_type": "code",
      "metadata": {
        "execution": {
          "iopub.execute_input": "2020-10-12T01:18:58.286672Z",
          "iopub.status.busy": "2020-10-12T01:18:58.285571Z",
          "iopub.status.idle": "2020-10-12T01:30:36.157752Z",
          "shell.execute_reply": "2020-10-12T01:30:36.159280Z"
        },
        "id": "YcwM299t6kQZ",
        "colab": {
          "base_uri": "https://localhost:8080/"
        },
        "outputId": "9ff93ce6-39c0-45ac-b3cf-5aca2d5e4f7e"
      },
      "source": [
        "rmsprop = keras.optimizers.RMSprop(learning_rate=1e-4)\n",
        "model.compile(optimizer=rmsprop, loss='binary_crossentropy', \n",
        "              metrics=['accuracy'])\n",
        "\n",
        "checkpoint_cb = keras.callbacks.ModelCheckpoint('best-simplernn-model.h5', \n",
        "                                                save_best_only=True)\n",
        "early_stopping_cb = keras.callbacks.EarlyStopping(patience=3,\n",
        "                                                  restore_best_weights=True)\n",
        "\n",
        "history = model.fit(train_oh, train_target, epochs=100, batch_size=64,\n",
        "                    validation_data=(val_oh, val_target),\n",
        "                    callbacks=[checkpoint_cb, early_stopping_cb])"
      ],
      "execution_count": 24,
      "outputs": [
        {
          "output_type": "stream",
          "text": [
            "Epoch 1/100\n",
            "313/313 [==============================] - 26s 71ms/step - loss: 0.7021 - accuracy: 0.5017 - val_loss: 0.6963 - val_accuracy: 0.5162\n",
            "Epoch 2/100\n",
            "313/313 [==============================] - 22s 70ms/step - loss: 0.6906 - accuracy: 0.5313 - val_loss: 0.6849 - val_accuracy: 0.5554\n",
            "Epoch 3/100\n",
            "313/313 [==============================] - 22s 70ms/step - loss: 0.6791 - accuracy: 0.5749 - val_loss: 0.6765 - val_accuracy: 0.5822\n",
            "Epoch 4/100\n",
            "313/313 [==============================] - 22s 70ms/step - loss: 0.6695 - accuracy: 0.6061 - val_loss: 0.6674 - val_accuracy: 0.6148\n",
            "Epoch 5/100\n",
            "313/313 [==============================] - 22s 70ms/step - loss: 0.6603 - accuracy: 0.6300 - val_loss: 0.6608 - val_accuracy: 0.6298\n",
            "Epoch 6/100\n",
            "313/313 [==============================] - 22s 69ms/step - loss: 0.6508 - accuracy: 0.6544 - val_loss: 0.6498 - val_accuracy: 0.6508\n",
            "Epoch 7/100\n",
            "313/313 [==============================] - 22s 69ms/step - loss: 0.6409 - accuracy: 0.6694 - val_loss: 0.6412 - val_accuracy: 0.6624\n",
            "Epoch 8/100\n",
            "313/313 [==============================] - 22s 69ms/step - loss: 0.6305 - accuracy: 0.6857 - val_loss: 0.6347 - val_accuracy: 0.6718\n",
            "Epoch 9/100\n",
            "313/313 [==============================] - 22s 69ms/step - loss: 0.6204 - accuracy: 0.6966 - val_loss: 0.6268 - val_accuracy: 0.6770\n",
            "Epoch 10/100\n",
            "313/313 [==============================] - 22s 70ms/step - loss: 0.6092 - accuracy: 0.7097 - val_loss: 0.6126 - val_accuracy: 0.6972\n",
            "Epoch 11/100\n",
            "313/313 [==============================] - 22s 70ms/step - loss: 0.5979 - accuracy: 0.7216 - val_loss: 0.6030 - val_accuracy: 0.7086\n",
            "Epoch 12/100\n",
            "313/313 [==============================] - 22s 69ms/step - loss: 0.5862 - accuracy: 0.7291 - val_loss: 0.5933 - val_accuracy: 0.7120\n",
            "Epoch 13/100\n",
            "313/313 [==============================] - 22s 69ms/step - loss: 0.5742 - accuracy: 0.7383 - val_loss: 0.5830 - val_accuracy: 0.7222\n",
            "Epoch 14/100\n",
            "313/313 [==============================] - 22s 69ms/step - loss: 0.5617 - accuracy: 0.7473 - val_loss: 0.5724 - val_accuracy: 0.7304\n",
            "Epoch 15/100\n",
            "313/313 [==============================] - 22s 69ms/step - loss: 0.5490 - accuracy: 0.7534 - val_loss: 0.5613 - val_accuracy: 0.7344\n",
            "Epoch 16/100\n",
            "313/313 [==============================] - 22s 70ms/step - loss: 0.5371 - accuracy: 0.7585 - val_loss: 0.5515 - val_accuracy: 0.7430\n",
            "Epoch 17/100\n",
            "313/313 [==============================] - 22s 69ms/step - loss: 0.5252 - accuracy: 0.7627 - val_loss: 0.5412 - val_accuracy: 0.7498\n",
            "Epoch 18/100\n",
            "313/313 [==============================] - 22s 69ms/step - loss: 0.5141 - accuracy: 0.7692 - val_loss: 0.5334 - val_accuracy: 0.7470\n",
            "Epoch 19/100\n",
            "313/313 [==============================] - 22s 70ms/step - loss: 0.5042 - accuracy: 0.7717 - val_loss: 0.5270 - val_accuracy: 0.7528\n",
            "Epoch 20/100\n",
            "313/313 [==============================] - 22s 69ms/step - loss: 0.4959 - accuracy: 0.7741 - val_loss: 0.5187 - val_accuracy: 0.7566\n",
            "Epoch 21/100\n",
            "313/313 [==============================] - 22s 69ms/step - loss: 0.4879 - accuracy: 0.7786 - val_loss: 0.5141 - val_accuracy: 0.7586\n",
            "Epoch 22/100\n",
            "313/313 [==============================] - 22s 70ms/step - loss: 0.4816 - accuracy: 0.7813 - val_loss: 0.5056 - val_accuracy: 0.7614\n",
            "Epoch 23/100\n",
            "313/313 [==============================] - 22s 69ms/step - loss: 0.4761 - accuracy: 0.7830 - val_loss: 0.5036 - val_accuracy: 0.7618\n",
            "Epoch 24/100\n",
            "313/313 [==============================] - 22s 70ms/step - loss: 0.4710 - accuracy: 0.7865 - val_loss: 0.5003 - val_accuracy: 0.7636\n",
            "Epoch 25/100\n",
            "313/313 [==============================] - 22s 70ms/step - loss: 0.4659 - accuracy: 0.7896 - val_loss: 0.4949 - val_accuracy: 0.7666\n",
            "Epoch 26/100\n",
            "313/313 [==============================] - 22s 70ms/step - loss: 0.4614 - accuracy: 0.7910 - val_loss: 0.4967 - val_accuracy: 0.7666\n",
            "Epoch 27/100\n",
            "313/313 [==============================] - 22s 70ms/step - loss: 0.4582 - accuracy: 0.7937 - val_loss: 0.4902 - val_accuracy: 0.7706\n",
            "Epoch 28/100\n",
            "313/313 [==============================] - 22s 70ms/step - loss: 0.4540 - accuracy: 0.7952 - val_loss: 0.4890 - val_accuracy: 0.7712\n",
            "Epoch 29/100\n",
            "313/313 [==============================] - 22s 71ms/step - loss: 0.4501 - accuracy: 0.7971 - val_loss: 0.4885 - val_accuracy: 0.7700\n",
            "Epoch 30/100\n",
            "313/313 [==============================] - 22s 71ms/step - loss: 0.4475 - accuracy: 0.7992 - val_loss: 0.4875 - val_accuracy: 0.7702\n",
            "Epoch 31/100\n",
            "313/313 [==============================] - 22s 70ms/step - loss: 0.4446 - accuracy: 0.8001 - val_loss: 0.4858 - val_accuracy: 0.7712\n",
            "Epoch 32/100\n",
            "313/313 [==============================] - 22s 70ms/step - loss: 0.4418 - accuracy: 0.8016 - val_loss: 0.4841 - val_accuracy: 0.7746\n",
            "Epoch 33/100\n",
            "313/313 [==============================] - 22s 71ms/step - loss: 0.4386 - accuracy: 0.8053 - val_loss: 0.4817 - val_accuracy: 0.7744\n",
            "Epoch 34/100\n",
            "313/313 [==============================] - 22s 71ms/step - loss: 0.4361 - accuracy: 0.8055 - val_loss: 0.4823 - val_accuracy: 0.7768\n",
            "Epoch 35/100\n",
            "313/313 [==============================] - 22s 70ms/step - loss: 0.4334 - accuracy: 0.8063 - val_loss: 0.4835 - val_accuracy: 0.7768\n",
            "Epoch 36/100\n",
            "313/313 [==============================] - 22s 70ms/step - loss: 0.4311 - accuracy: 0.8091 - val_loss: 0.4790 - val_accuracy: 0.7774\n",
            "Epoch 37/100\n",
            "313/313 [==============================] - 22s 71ms/step - loss: 0.4285 - accuracy: 0.8097 - val_loss: 0.4788 - val_accuracy: 0.7792\n",
            "Epoch 38/100\n",
            "313/313 [==============================] - 22s 71ms/step - loss: 0.4256 - accuracy: 0.8117 - val_loss: 0.4784 - val_accuracy: 0.7786\n",
            "Epoch 39/100\n",
            "313/313 [==============================] - 22s 70ms/step - loss: 0.4238 - accuracy: 0.8123 - val_loss: 0.4765 - val_accuracy: 0.7790\n",
            "Epoch 40/100\n",
            "313/313 [==============================] - 22s 70ms/step - loss: 0.4219 - accuracy: 0.8136 - val_loss: 0.4765 - val_accuracy: 0.7796\n",
            "Epoch 41/100\n",
            "313/313 [==============================] - 22s 71ms/step - loss: 0.4190 - accuracy: 0.8144 - val_loss: 0.4797 - val_accuracy: 0.7804\n",
            "Epoch 42/100\n",
            "313/313 [==============================] - 22s 70ms/step - loss: 0.4175 - accuracy: 0.8159 - val_loss: 0.4766 - val_accuracy: 0.7804\n"
          ],
          "name": "stdout"
        }
      ]
    },
    {
      "cell_type": "code",
      "metadata": {
        "execution": {
          "iopub.execute_input": "2020-10-12T01:30:36.190161Z",
          "iopub.status.busy": "2020-10-12T01:30:36.175046Z",
          "iopub.status.idle": "2020-10-12T01:30:36.782577Z",
          "shell.execute_reply": "2020-10-12T01:30:36.784046Z"
        },
        "id": "YS_5tIG26kQa",
        "colab": {
          "base_uri": "https://localhost:8080/",
          "height": 279
        },
        "outputId": "9f18f98c-30e5-4914-8b56-cae3f31408c5"
      },
      "source": [
        "plt.plot(history.history['loss'])\n",
        "plt.plot(history.history['val_loss'])\n",
        "plt.xlabel('epoch')\n",
        "plt.ylabel('loss')\n",
        "plt.legend(['train', 'val'])\n",
        "plt.show()"
      ],
      "execution_count": 25,
      "outputs": [
        {
          "output_type": "display_data",
          "data": {
            "image/png": "[encoded data removed]",
            "text/plain": [
              "<Figure size 432x288 with 1 Axes>"
            ]
          },
          "metadata": {
            "tags": [],
            "needs_background": "light"
          }
        }
      ]
    },
    {
      "cell_type": "markdown",
      "metadata": {
        "id": "K_U_lVie6kQa"
      },
      "source": [
        "## 단어 임베딩을 사용하기"
      ]
    },
    {
      "cell_type": "code",
      "metadata": {
        "execution": {
          "iopub.execute_input": "2020-10-12T01:30:36.795147Z",
          "iopub.status.busy": "2020-10-12T01:30:36.793959Z",
          "iopub.status.idle": "2020-10-12T01:30:37.414822Z",
          "shell.execute_reply": "2020-10-12T01:30:37.417021Z"
        },
        "id": "Ofl-Ifev6kQa",
        "colab": {
          "base_uri": "https://localhost:8080/"
        },
        "outputId": "77e73122-2d97-4868-b54e-3cfc61dc8c58"
      },
      "source": [
        "model2 = keras.Sequential()\n",
        "\n",
        "model2.add(keras.layers.Embedding(500, 16, input_length=100))\n",
        "model2.add(keras.layers.SimpleRNN(8))\n",
        "model2.add(keras.layers.Dense(1, activation='sigmoid'))\n",
        "\n",
        "model2.summary()"
      ],
      "execution_count": 26,
      "outputs": [
        {
          "output_type": "stream",
          "text": [
            "Model: \"sequential_1\"\n",
            "_________________________________________________________________\n",
            "Layer (type)                 Output Shape              Param #   \n",
            "=================================================================\n",
            "embedding (Embedding)        (None, 100, 16)           8000      \n",
            "_________________________________________________________________\n",
            "simple_rnn_1 (SimpleRNN)     (None, 8)                 200       \n",
            "_________________________________________________________________\n",
            "dense_1 (Dense)              (None, 1)                 9         \n",
            "=================================================================\n",
            "Total params: 8,209\n",
            "Trainable params: 8,209\n",
            "Non-trainable params: 0\n",
            "_________________________________________________________________\n"
          ],
          "name": "stdout"
        }
      ]
    },
    {
      "cell_type": "code",
      "metadata": {
        "execution": {
          "iopub.execute_input": "2020-10-12T01:30:37.439013Z",
          "iopub.status.busy": "2020-10-12T01:30:37.437655Z",
          "iopub.status.idle": "2020-10-12T01:40:38.584921Z",
          "shell.execute_reply": "2020-10-12T01:40:38.586340Z"
        },
        "id": "78TUrJAs6kQa",
        "colab": {
          "base_uri": "https://localhost:8080/"
        },
        "outputId": "ea80b43f-45ab-494a-f570-0c6ed02e0d00"
      },
      "source": [
        "rmsprop = keras.optimizers.RMSprop(learning_rate=1e-4)\n",
        "model2.compile(optimizer=rmsprop, loss='binary_crossentropy', \n",
        "               metrics=['accuracy'])\n",
        "\n",
        "checkpoint_cb = keras.callbacks.ModelCheckpoint('best-embedding-model.h5', \n",
        "                                                save_best_only=True)\n",
        "early_stopping_cb = keras.callbacks.EarlyStopping(patience=3,\n",
        "                                                  restore_best_weights=True)\n",
        "\n",
        "history = model2.fit(train_seq, train_target, epochs=100, batch_size=64,\n",
        "                     validation_data=(val_seq, val_target),\n",
        "                     callbacks=[checkpoint_cb, early_stopping_cb])"
      ],
      "execution_count": 27,
      "outputs": [
        {
          "output_type": "stream",
          "text": [
            "Epoch 1/100\n",
            "313/313 [==============================] - 29s 91ms/step - loss: 0.6812 - accuracy: 0.5728 - val_loss: 0.6668 - val_accuracy: 0.6236\n",
            "Epoch 2/100\n",
            "313/313 [==============================] - 29s 92ms/step - loss: 0.6519 - accuracy: 0.6693 - val_loss: 0.6423 - val_accuracy: 0.6848\n",
            "Epoch 3/100\n",
            "313/313 [==============================] - 29s 93ms/step - loss: 0.6258 - accuracy: 0.7117 - val_loss: 0.6199 - val_accuracy: 0.7064\n",
            "Epoch 4/100\n",
            "313/313 [==============================] - 28s 91ms/step - loss: 0.6009 - accuracy: 0.7358 - val_loss: 0.5992 - val_accuracy: 0.7300\n",
            "Epoch 5/100\n",
            "313/313 [==============================] - 28s 91ms/step - loss: 0.5772 - accuracy: 0.7519 - val_loss: 0.5774 - val_accuracy: 0.7450\n",
            "Epoch 6/100\n",
            "313/313 [==============================] - 29s 91ms/step - loss: 0.5557 - accuracy: 0.7645 - val_loss: 0.5580 - val_accuracy: 0.7534\n",
            "Epoch 7/100\n",
            "313/313 [==============================] - 29s 91ms/step - loss: 0.5349 - accuracy: 0.7746 - val_loss: 0.5414 - val_accuracy: 0.7554\n",
            "Epoch 8/100\n",
            "313/313 [==============================] - 29s 92ms/step - loss: 0.5165 - accuracy: 0.7829 - val_loss: 0.5261 - val_accuracy: 0.7668\n",
            "Epoch 9/100\n",
            "313/313 [==============================] - 29s 92ms/step - loss: 0.5002 - accuracy: 0.7901 - val_loss: 0.5151 - val_accuracy: 0.7670\n",
            "Epoch 10/100\n",
            "313/313 [==============================] - 29s 92ms/step - loss: 0.4861 - accuracy: 0.7940 - val_loss: 0.5028 - val_accuracy: 0.7704\n",
            "Epoch 11/100\n",
            "313/313 [==============================] - 29s 91ms/step - loss: 0.4733 - accuracy: 0.7991 - val_loss: 0.4924 - val_accuracy: 0.7768\n",
            "Epoch 12/100\n",
            "313/313 [==============================] - 29s 93ms/step - loss: 0.4626 - accuracy: 0.8027 - val_loss: 0.4938 - val_accuracy: 0.7760\n",
            "Epoch 13/100\n",
            "313/313 [==============================] - 28s 90ms/step - loss: 0.4540 - accuracy: 0.8051 - val_loss: 0.4798 - val_accuracy: 0.7820\n",
            "Epoch 14/100\n",
            "313/313 [==============================] - 29s 92ms/step - loss: 0.4460 - accuracy: 0.8081 - val_loss: 0.4790 - val_accuracy: 0.7794\n",
            "Epoch 15/100\n",
            "313/313 [==============================] - 28s 91ms/step - loss: 0.4395 - accuracy: 0.8099 - val_loss: 0.4732 - val_accuracy: 0.7834\n",
            "Epoch 16/100\n",
            "313/313 [==============================] - 28s 89ms/step - loss: 0.4346 - accuracy: 0.8144 - val_loss: 0.4701 - val_accuracy: 0.7834\n",
            "Epoch 17/100\n",
            "313/313 [==============================] - 27s 88ms/step - loss: 0.4296 - accuracy: 0.8153 - val_loss: 0.4673 - val_accuracy: 0.7850\n",
            "Epoch 18/100\n",
            "313/313 [==============================] - 27s 87ms/step - loss: 0.4244 - accuracy: 0.8176 - val_loss: 0.4690 - val_accuracy: 0.7830\n",
            "Epoch 19/100\n",
            "313/313 [==============================] - 27s 88ms/step - loss: 0.4209 - accuracy: 0.8185 - val_loss: 0.4654 - val_accuracy: 0.7848\n",
            "Epoch 20/100\n",
            "313/313 [==============================] - 27s 88ms/step - loss: 0.4180 - accuracy: 0.8190 - val_loss: 0.4645 - val_accuracy: 0.7862\n",
            "Epoch 21/100\n",
            "313/313 [==============================] - 28s 89ms/step - loss: 0.4150 - accuracy: 0.8213 - val_loss: 0.4633 - val_accuracy: 0.7868\n",
            "Epoch 22/100\n",
            "313/313 [==============================] - 28s 88ms/step - loss: 0.4110 - accuracy: 0.8217 - val_loss: 0.4667 - val_accuracy: 0.7798\n",
            "Epoch 23/100\n",
            "313/313 [==============================] - 28s 89ms/step - loss: 0.4089 - accuracy: 0.8231 - val_loss: 0.4656 - val_accuracy: 0.7820\n",
            "Epoch 24/100\n",
            "313/313 [==============================] - 28s 89ms/step - loss: 0.4060 - accuracy: 0.8234 - val_loss: 0.4643 - val_accuracy: 0.7878\n"
          ],
          "name": "stdout"
        }
      ]
    },
    {
      "cell_type": "code",
      "metadata": {
        "execution": {
          "iopub.execute_input": "2020-10-12T01:40:38.604725Z",
          "iopub.status.busy": "2020-10-12T01:40:38.602954Z",
          "iopub.status.idle": "2020-10-12T01:40:39.220316Z",
          "shell.execute_reply": "2020-10-12T01:40:39.221611Z"
        },
        "id": "brUvKwLt6kQb",
        "colab": {
          "base_uri": "https://localhost:8080/",
          "height": 279
        },
        "outputId": "6e5511b7-ddea-430a-dfeb-2851d932f1bb"
      },
      "source": [
        "plt.plot(history.history['loss'])\n",
        "plt.plot(history.history['val_loss'])\n",
        "plt.xlabel('epoch')\n",
        "plt.ylabel('loss')\n",
        "plt.legend(['train', 'val'])\n",
        "plt.show()"
      ],
      "execution_count": 28,
      "outputs": [
        {
          "output_type": "display_data",
          "data": {
            "image/png": "[encoded data removed]",
            "text/plain": [
              "<Figure size 432x288 with 1 Axes>"
            ]
          },
          "metadata": {
            "tags": [],
            "needs_background": "light"
          }
        }
      ]
    }
  ]
}